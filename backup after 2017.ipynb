{
 "cells": [
  {
   "cell_type": "markdown",
   "metadata": {},
   "source": [
    "\n",
    "##### Year 2018\n",
    "* 11771 missing value based on : start_station_id, start_station_name, end_station_id, and end_station_name columns\n",
    "\n",
    "##### Year 2019\n",
    "* Columns name is not same for all csv files\n",
    "\n",
    "##### Year 2020\n",
    "* Columns name is not same for all csv files\n"
   ]
  },
  {
   "cell_type": "code",
   "execution_count": null,
   "metadata": {},
   "outputs": [],
   "source": [
    "# Function to check column equality for csv in one year \n",
    "def column_check(index):\n",
    "\n",
    "    columns = pd.read_csv(csv_list[index]).columns\n",
    "    for i in csv_list[index:index+12]:\n",
    "        df = pd.read_csv(i)\n",
    "        if columns.all() == df.columns.all():\n",
    "            print(i, 'columns is identical')\n",
    "        else:\n",
    "            print(i, 'columns is NOT identical')\n",
    "            \n",
    "# Column check for year 2018, starterd from index 1 to 12\n",
    "column_check(1)"
   ]
  },
  {
   "cell_type": "code",
   "execution_count": null,
   "metadata": {},
   "outputs": [],
   "source": [
    "# Data Cleaning"
   ]
  },
  {
   "cell_type": "code",
   "execution_count": null,
   "metadata": {},
   "outputs": [],
   "source": [
    "# Concat all 2018 dataframe\n",
    "df_2018 = pd.concat(map(pd.read_csv, glob.glob('data/2018*.csv')), ignore_index=True)\n",
    "df_2018"
   ]
  },
  {
   "cell_type": "code",
   "execution_count": null,
   "metadata": {},
   "outputs": [],
   "source": [
    "df_2018.info(verbose=True, null_counts=True)"
   ]
  },
  {
   "cell_type": "code",
   "execution_count": null,
   "metadata": {},
   "outputs": [],
   "source": [
    "df_2018.isna().sum()"
   ]
  },
  {
   "cell_type": "code",
   "execution_count": null,
   "metadata": {},
   "outputs": [],
   "source": [
    "df_2018[df_2018.isnull().any(axis='columns')]"
   ]
  },
  {
   "cell_type": "code",
   "execution_count": null,
   "metadata": {},
   "outputs": [],
   "source": [
    "### 2019 Dataframes"
   ]
  },
  {
   "cell_type": "code",
   "execution_count": null,
   "metadata": {},
   "outputs": [],
   "source": [
    "# Column check for year 2019, starterd from index 13 to 24\n",
    "column_check(13)"
   ]
  },
  {
   "cell_type": "code",
   "execution_count": null,
   "metadata": {},
   "outputs": [],
   "source": [
    "# Check difference in column\n",
    "print(pd.read_csv(csv_list[13]).columns)\n",
    "print(pd.read_csv(csv_list[18]).columns)\n",
    "print(pd.read_csv(csv_list[19]).columns)\n",
    "print(pd.read_csv(csv_list[23]).columns)\n",
    "print(pd.read_csv(csv_list[24]).columns)"
   ]
  },
  {
   "cell_type": "code",
   "execution_count": null,
   "metadata": {},
   "outputs": [],
   "source": [
    "df_201901 = pd.read_csv(csv_list[13])\n",
    "df_201901      "
   ]
  },
  {
   "cell_type": "code",
   "execution_count": null,
   "metadata": {},
   "outputs": [],
   "source": [
    "df_201906 = pd.read_csv(csv_list[18])\n",
    "df_201906  "
   ]
  },
  {
   "cell_type": "code",
   "execution_count": null,
   "metadata": {},
   "outputs": [],
   "source": [
    "###  2020 Dataframes"
   ]
  },
  {
   "cell_type": "code",
   "execution_count": null,
   "metadata": {},
   "outputs": [],
   "source": [
    "# Column check for year 2020, starterd from index 25 to the end\n",
    "column_check(25)"
   ]
  }
 ],
 "metadata": {
  "kernelspec": {
   "display_name": "Python 3",
   "language": "python",
   "name": "python3"
  },
  "language_info": {
   "codemirror_mode": {
    "name": "ipython",
    "version": 3
   },
   "file_extension": ".py",
   "mimetype": "text/x-python",
   "name": "python",
   "nbconvert_exporter": "python",
   "pygments_lexer": "ipython3",
   "version": "3.8.5"
  }
 },
 "nbformat": 4,
 "nbformat_minor": 4
}
