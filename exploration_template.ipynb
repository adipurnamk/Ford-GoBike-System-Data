{
 "cells": [
  {
   "cell_type": "markdown",
   "metadata": {},
   "source": [
    "# Analysis for San Francisco Bay Bike Sharing-System 2017\n",
    "## by Muhammad Adipurna Kusumawardana\n",
    "\n",
    "## Preliminary Wrangling\n",
    "\n",
    "This data set includes information about individual rides made in a bike-sharing system covering the greater San Francisco Bay area.\n",
    "https://www.lyft.com/bikes/bay-wheels/system-data\n",
    "\n",
    "The Data\n",
    "Each trip is anonymized and includes:\n",
    "\n",
    "* Trip Duration (seconds)\n",
    "* Start Time and Date\n",
    "* End Time and Date\n",
    "* Start Station ID\n",
    "* Start Station Name\n",
    "* Start Station Latitude\n",
    "* Start Station Longitude\n",
    "* End Station ID\n",
    "* End Station Name\n",
    "* End Station Latitude\n",
    "* End Station Longitude\n",
    "* Bike ID\n",
    "* User Type (Subscriber or Customer – “Subscriber” = Member or “Customer” = Casual)"
   ]
  },
  {
   "cell_type": "code",
   "execution_count": 1,
   "metadata": {},
   "outputs": [],
   "source": [
    "# import all packages and set plots to be embedded inline\n",
    "import re \n",
    "import glob\n",
    "import zipfile\n",
    "import datetime\n",
    "import numpy as np\n",
    "import pandas as pd\n",
    "import seaborn as sns\n",
    "import matplotlib.pyplot as plt\n",
    "from bs4 import BeautifulSoup\n",
    "\n",
    "%matplotlib inline"
   ]
  },
  {
   "cell_type": "code",
   "execution_count": 2,
   "metadata": {},
   "outputs": [],
   "source": [
    "# Make a list containing all the zip-file names\n",
    "zip_list = glob.glob('./data/*.zip')"
   ]
  },
  {
   "cell_type": "code",
   "execution_count": 3,
   "metadata": {
    "deletable": false,
    "editable": false,
    "run_control": {
     "frozen": true
    }
   },
   "outputs": [],
   "source": [
    "# Extract all zipfile using zipfile library\n",
    "for zip_file in zip_list:\n",
    "    with zipfile.ZipFile(zip_file, 'r') as zip_ref:\n",
    "        zip_ref.extractall(\"./data/\")"
   ]
  },
  {
   "cell_type": "code",
   "execution_count": 4,
   "metadata": {
    "deletable": false,
    "editable": false,
    "run_control": {
     "frozen": true
    }
   },
   "outputs": [
    {
     "data": {
      "text/plain": [
       "['./data\\\\2017-fordgobike-tripdata.csv',\n",
       " './data\\\\201801-fordgobike-tripdata.csv',\n",
       " './data\\\\201802-fordgobike-tripdata.csv',\n",
       " './data\\\\201803-fordgobike-tripdata.csv',\n",
       " './data\\\\201804-fordgobike-tripdata.csv',\n",
       " './data\\\\201805-fordgobike-tripdata.csv',\n",
       " './data\\\\201806-fordgobike-tripdata.csv',\n",
       " './data\\\\201807-fordgobike-tripdata.csv',\n",
       " './data\\\\201808-fordgobike-tripdata.csv',\n",
       " './data\\\\201809-fordgobike-tripdata.csv',\n",
       " './data\\\\201810-fordgobike-tripdata.csv',\n",
       " './data\\\\201811-fordgobike-tripdata.csv',\n",
       " './data\\\\201812-fordgobike-tripdata.csv',\n",
       " './data\\\\201901-fordgobike-tripdata.csv',\n",
       " './data\\\\201902-fordgobike-tripdata.csv',\n",
       " './data\\\\201903-fordgobike-tripdata.csv',\n",
       " './data\\\\201904-fordgobike-tripdata.csv',\n",
       " './data\\\\201905-baywheels-tripdata.csv',\n",
       " './data\\\\201906-baywheels-tripdata.csv',\n",
       " './data\\\\201907-baywheels-tripdata.csv',\n",
       " './data\\\\201908-baywheels-tripdata.csv',\n",
       " './data\\\\201909-baywheels-tripdata.csv',\n",
       " './data\\\\201910-baywheels-tripdata.csv',\n",
       " './data\\\\201911-baywheels-tripdata.csv',\n",
       " './data\\\\201912-baywheels-tripdata.csv',\n",
       " './data\\\\202001-baywheels-tripdata.csv',\n",
       " './data\\\\202002-baywheels-tripdata.csv',\n",
       " './data\\\\202003-baywheels-tripdata.csv',\n",
       " './data\\\\202004-baywheels-tripdata.csv',\n",
       " './data\\\\202005-baywheels-tripdata.csv',\n",
       " './data\\\\202006-baywheels-tripdata.csv',\n",
       " './data\\\\202007-baywheels-tripdata.csv']"
      ]
     },
     "execution_count": 4,
     "metadata": {},
     "output_type": "execute_result"
    }
   ],
   "source": [
    "csv_list = glob.glob('./data/*.csv')\n",
    "csv_list      "
   ]
  },
  {
   "cell_type": "code",
   "execution_count": 3,
   "metadata": {},
   "outputs": [
    {
     "data": {
      "text/html": [
       "<div>\n",
       "<style scoped>\n",
       "    .dataframe tbody tr th:only-of-type {\n",
       "        vertical-align: middle;\n",
       "    }\n",
       "\n",
       "    .dataframe tbody tr th {\n",
       "        vertical-align: top;\n",
       "    }\n",
       "\n",
       "    .dataframe thead th {\n",
       "        text-align: right;\n",
       "    }\n",
       "</style>\n",
       "<table border=\"1\" class=\"dataframe\">\n",
       "  <thead>\n",
       "    <tr style=\"text-align: right;\">\n",
       "      <th></th>\n",
       "      <th>duration_sec</th>\n",
       "      <th>start_time</th>\n",
       "      <th>end_time</th>\n",
       "      <th>start_station_id</th>\n",
       "      <th>start_station_name</th>\n",
       "      <th>start_station_latitude</th>\n",
       "      <th>start_station_longitude</th>\n",
       "      <th>end_station_id</th>\n",
       "      <th>end_station_name</th>\n",
       "      <th>end_station_latitude</th>\n",
       "      <th>end_station_longitude</th>\n",
       "      <th>bike_id</th>\n",
       "      <th>user_type</th>\n",
       "    </tr>\n",
       "  </thead>\n",
       "  <tbody>\n",
       "    <tr>\n",
       "      <th>0</th>\n",
       "      <td>80110</td>\n",
       "      <td>2017-12-31 16:57:39.6540</td>\n",
       "      <td>2018-01-01 15:12:50.2450</td>\n",
       "      <td>74</td>\n",
       "      <td>Laguna St at Hayes St</td>\n",
       "      <td>37.776435</td>\n",
       "      <td>-122.426244</td>\n",
       "      <td>43</td>\n",
       "      <td>San Francisco Public Library (Grove St at Hyde...</td>\n",
       "      <td>37.778768</td>\n",
       "      <td>-122.415929</td>\n",
       "      <td>96</td>\n",
       "      <td>Customer</td>\n",
       "    </tr>\n",
       "    <tr>\n",
       "      <th>1</th>\n",
       "      <td>78800</td>\n",
       "      <td>2017-12-31 15:56:34.8420</td>\n",
       "      <td>2018-01-01 13:49:55.6170</td>\n",
       "      <td>284</td>\n",
       "      <td>Yerba Buena Center for the Arts (Howard St at ...</td>\n",
       "      <td>37.784872</td>\n",
       "      <td>-122.400876</td>\n",
       "      <td>96</td>\n",
       "      <td>Dolores St at 15th St</td>\n",
       "      <td>37.766210</td>\n",
       "      <td>-122.426614</td>\n",
       "      <td>88</td>\n",
       "      <td>Customer</td>\n",
       "    </tr>\n",
       "    <tr>\n",
       "      <th>2</th>\n",
       "      <td>45768</td>\n",
       "      <td>2017-12-31 22:45:48.4110</td>\n",
       "      <td>2018-01-01 11:28:36.8830</td>\n",
       "      <td>245</td>\n",
       "      <td>Downtown Berkeley BART</td>\n",
       "      <td>37.870348</td>\n",
       "      <td>-122.267764</td>\n",
       "      <td>245</td>\n",
       "      <td>Downtown Berkeley BART</td>\n",
       "      <td>37.870348</td>\n",
       "      <td>-122.267764</td>\n",
       "      <td>1094</td>\n",
       "      <td>Customer</td>\n",
       "    </tr>\n",
       "    <tr>\n",
       "      <th>3</th>\n",
       "      <td>62172</td>\n",
       "      <td>2017-12-31 17:31:10.6360</td>\n",
       "      <td>2018-01-01 10:47:23.5310</td>\n",
       "      <td>60</td>\n",
       "      <td>8th St at Ringold St</td>\n",
       "      <td>37.774520</td>\n",
       "      <td>-122.409449</td>\n",
       "      <td>5</td>\n",
       "      <td>Powell St BART Station (Market St at 5th St)</td>\n",
       "      <td>37.783899</td>\n",
       "      <td>-122.408445</td>\n",
       "      <td>2831</td>\n",
       "      <td>Customer</td>\n",
       "    </tr>\n",
       "    <tr>\n",
       "      <th>4</th>\n",
       "      <td>43603</td>\n",
       "      <td>2017-12-31 14:23:14.0010</td>\n",
       "      <td>2018-01-01 02:29:57.5710</td>\n",
       "      <td>239</td>\n",
       "      <td>Bancroft Way at Telegraph Ave</td>\n",
       "      <td>37.868813</td>\n",
       "      <td>-122.258764</td>\n",
       "      <td>247</td>\n",
       "      <td>Fulton St at Bancroft Way</td>\n",
       "      <td>37.867789</td>\n",
       "      <td>-122.265896</td>\n",
       "      <td>3167</td>\n",
       "      <td>Subscriber</td>\n",
       "    </tr>\n",
       "    <tr>\n",
       "      <th>...</th>\n",
       "      <td>...</td>\n",
       "      <td>...</td>\n",
       "      <td>...</td>\n",
       "      <td>...</td>\n",
       "      <td>...</td>\n",
       "      <td>...</td>\n",
       "      <td>...</td>\n",
       "      <td>...</td>\n",
       "      <td>...</td>\n",
       "      <td>...</td>\n",
       "      <td>...</td>\n",
       "      <td>...</td>\n",
       "      <td>...</td>\n",
       "    </tr>\n",
       "    <tr>\n",
       "      <th>519695</th>\n",
       "      <td>435</td>\n",
       "      <td>2017-06-28 10:00:54.5280</td>\n",
       "      <td>2017-06-28 10:08:10.4380</td>\n",
       "      <td>81</td>\n",
       "      <td>Berry St at 4th St</td>\n",
       "      <td>37.775880</td>\n",
       "      <td>-122.393170</td>\n",
       "      <td>45</td>\n",
       "      <td>5th St at Howard St</td>\n",
       "      <td>37.781752</td>\n",
       "      <td>-122.405127</td>\n",
       "      <td>400</td>\n",
       "      <td>Subscriber</td>\n",
       "    </tr>\n",
       "    <tr>\n",
       "      <th>519696</th>\n",
       "      <td>431</td>\n",
       "      <td>2017-06-28 09:56:39.6310</td>\n",
       "      <td>2017-06-28 10:03:51.0900</td>\n",
       "      <td>66</td>\n",
       "      <td>3rd St at Townsend St</td>\n",
       "      <td>37.778742</td>\n",
       "      <td>-122.392741</td>\n",
       "      <td>321</td>\n",
       "      <td>5th at Folsom</td>\n",
       "      <td>37.780146</td>\n",
       "      <td>-122.403071</td>\n",
       "      <td>316</td>\n",
       "      <td>Subscriber</td>\n",
       "    </tr>\n",
       "    <tr>\n",
       "      <th>519697</th>\n",
       "      <td>424</td>\n",
       "      <td>2017-06-28 09:47:36.3470</td>\n",
       "      <td>2017-06-28 09:54:41.1870</td>\n",
       "      <td>21</td>\n",
       "      <td>Montgomery St BART Station (Market St at 2nd St)</td>\n",
       "      <td>37.789625</td>\n",
       "      <td>-122.400811</td>\n",
       "      <td>48</td>\n",
       "      <td>2nd St at S Park St</td>\n",
       "      <td>37.782411</td>\n",
       "      <td>-122.392706</td>\n",
       "      <td>240</td>\n",
       "      <td>Subscriber</td>\n",
       "    </tr>\n",
       "    <tr>\n",
       "      <th>519698</th>\n",
       "      <td>366</td>\n",
       "      <td>2017-06-28 09:47:41.6640</td>\n",
       "      <td>2017-06-28 09:53:47.7150</td>\n",
       "      <td>58</td>\n",
       "      <td>Market St at 10th St</td>\n",
       "      <td>37.776619</td>\n",
       "      <td>-122.417385</td>\n",
       "      <td>59</td>\n",
       "      <td>S Van Ness Ave at Market St</td>\n",
       "      <td>37.774814</td>\n",
       "      <td>-122.418954</td>\n",
       "      <td>669</td>\n",
       "      <td>Subscriber</td>\n",
       "    </tr>\n",
       "    <tr>\n",
       "      <th>519699</th>\n",
       "      <td>188</td>\n",
       "      <td>2017-06-28 09:49:46.3770</td>\n",
       "      <td>2017-06-28 09:52:55.3380</td>\n",
       "      <td>25</td>\n",
       "      <td>Howard St at 2nd St</td>\n",
       "      <td>37.787522</td>\n",
       "      <td>-122.397405</td>\n",
       "      <td>48</td>\n",
       "      <td>2nd St at S Park St</td>\n",
       "      <td>37.782411</td>\n",
       "      <td>-122.392706</td>\n",
       "      <td>117</td>\n",
       "      <td>Subscriber</td>\n",
       "    </tr>\n",
       "  </tbody>\n",
       "</table>\n",
       "<p>519700 rows × 13 columns</p>\n",
       "</div>"
      ],
      "text/plain": [
       "        duration_sec                start_time                  end_time  \\\n",
       "0              80110  2017-12-31 16:57:39.6540  2018-01-01 15:12:50.2450   \n",
       "1              78800  2017-12-31 15:56:34.8420  2018-01-01 13:49:55.6170   \n",
       "2              45768  2017-12-31 22:45:48.4110  2018-01-01 11:28:36.8830   \n",
       "3              62172  2017-12-31 17:31:10.6360  2018-01-01 10:47:23.5310   \n",
       "4              43603  2017-12-31 14:23:14.0010  2018-01-01 02:29:57.5710   \n",
       "...              ...                       ...                       ...   \n",
       "519695           435  2017-06-28 10:00:54.5280  2017-06-28 10:08:10.4380   \n",
       "519696           431  2017-06-28 09:56:39.6310  2017-06-28 10:03:51.0900   \n",
       "519697           424  2017-06-28 09:47:36.3470  2017-06-28 09:54:41.1870   \n",
       "519698           366  2017-06-28 09:47:41.6640  2017-06-28 09:53:47.7150   \n",
       "519699           188  2017-06-28 09:49:46.3770  2017-06-28 09:52:55.3380   \n",
       "\n",
       "        start_station_id                                 start_station_name  \\\n",
       "0                     74                              Laguna St at Hayes St   \n",
       "1                    284  Yerba Buena Center for the Arts (Howard St at ...   \n",
       "2                    245                             Downtown Berkeley BART   \n",
       "3                     60                               8th St at Ringold St   \n",
       "4                    239                      Bancroft Way at Telegraph Ave   \n",
       "...                  ...                                                ...   \n",
       "519695                81                                 Berry St at 4th St   \n",
       "519696                66                              3rd St at Townsend St   \n",
       "519697                21   Montgomery St BART Station (Market St at 2nd St)   \n",
       "519698                58                               Market St at 10th St   \n",
       "519699                25                                Howard St at 2nd St   \n",
       "\n",
       "        start_station_latitude  start_station_longitude  end_station_id  \\\n",
       "0                    37.776435              -122.426244              43   \n",
       "1                    37.784872              -122.400876              96   \n",
       "2                    37.870348              -122.267764             245   \n",
       "3                    37.774520              -122.409449               5   \n",
       "4                    37.868813              -122.258764             247   \n",
       "...                        ...                      ...             ...   \n",
       "519695               37.775880              -122.393170              45   \n",
       "519696               37.778742              -122.392741             321   \n",
       "519697               37.789625              -122.400811              48   \n",
       "519698               37.776619              -122.417385              59   \n",
       "519699               37.787522              -122.397405              48   \n",
       "\n",
       "                                         end_station_name  \\\n",
       "0       San Francisco Public Library (Grove St at Hyde...   \n",
       "1                                   Dolores St at 15th St   \n",
       "2                                  Downtown Berkeley BART   \n",
       "3            Powell St BART Station (Market St at 5th St)   \n",
       "4                               Fulton St at Bancroft Way   \n",
       "...                                                   ...   \n",
       "519695                                5th St at Howard St   \n",
       "519696                                      5th at Folsom   \n",
       "519697                                2nd St at S Park St   \n",
       "519698                        S Van Ness Ave at Market St   \n",
       "519699                                2nd St at S Park St   \n",
       "\n",
       "        end_station_latitude  end_station_longitude  bike_id   user_type  \n",
       "0                  37.778768            -122.415929       96    Customer  \n",
       "1                  37.766210            -122.426614       88    Customer  \n",
       "2                  37.870348            -122.267764     1094    Customer  \n",
       "3                  37.783899            -122.408445     2831    Customer  \n",
       "4                  37.867789            -122.265896     3167  Subscriber  \n",
       "...                      ...                    ...      ...         ...  \n",
       "519695             37.781752            -122.405127      400  Subscriber  \n",
       "519696             37.780146            -122.403071      316  Subscriber  \n",
       "519697             37.782411            -122.392706      240  Subscriber  \n",
       "519698             37.774814            -122.418954      669  Subscriber  \n",
       "519699             37.782411            -122.392706      117  Subscriber  \n",
       "\n",
       "[519700 rows x 13 columns]"
      ]
     },
     "execution_count": 3,
     "metadata": {},
     "output_type": "execute_result"
    }
   ],
   "source": [
    "df_2017 = pd.read_csv('./data/2017-fordgobike-tripdata.csv')\n",
    "df_2017"
   ]
  },
  {
   "cell_type": "code",
   "execution_count": 4,
   "metadata": {},
   "outputs": [
    {
     "name": "stdout",
     "output_type": "stream",
     "text": [
      "<class 'pandas.core.frame.DataFrame'>\n",
      "RangeIndex: 519700 entries, 0 to 519699\n",
      "Data columns (total 13 columns):\n",
      " #   Column                   Non-Null Count   Dtype  \n",
      "---  ------                   --------------   -----  \n",
      " 0   duration_sec             519700 non-null  int64  \n",
      " 1   start_time               519700 non-null  object \n",
      " 2   end_time                 519700 non-null  object \n",
      " 3   start_station_id         519700 non-null  int64  \n",
      " 4   start_station_name       519700 non-null  object \n",
      " 5   start_station_latitude   519700 non-null  float64\n",
      " 6   start_station_longitude  519700 non-null  float64\n",
      " 7   end_station_id           519700 non-null  int64  \n",
      " 8   end_station_name         519700 non-null  object \n",
      " 9   end_station_latitude     519700 non-null  float64\n",
      " 10  end_station_longitude    519700 non-null  float64\n",
      " 11  bike_id                  519700 non-null  int64  \n",
      " 12  user_type                519700 non-null  object \n",
      "dtypes: float64(4), int64(4), object(5)\n",
      "memory usage: 51.5+ MB\n"
     ]
    }
   ],
   "source": [
    "# Check column dtype for each column\n",
    "df_2017.info()"
   ]
  },
  {
   "cell_type": "code",
   "execution_count": 5,
   "metadata": {},
   "outputs": [
    {
     "data": {
      "text/plain": [
       "duration_sec               0\n",
       "start_time                 0\n",
       "end_time                   0\n",
       "start_station_id           0\n",
       "start_station_name         0\n",
       "start_station_latitude     0\n",
       "start_station_longitude    0\n",
       "end_station_id             0\n",
       "end_station_name           0\n",
       "end_station_latitude       0\n",
       "end_station_longitude      0\n",
       "bike_id                    0\n",
       "user_type                  0\n",
       "dtype: int64"
      ]
     },
     "execution_count": 5,
     "metadata": {},
     "output_type": "execute_result"
    }
   ],
   "source": [
    "# Check null value for each column\n",
    "df_2017.isna().sum()"
   ]
  },
  {
   "cell_type": "code",
   "execution_count": 6,
   "metadata": {},
   "outputs": [
    {
     "data": {
      "text/plain": [
       "0"
      ]
     },
     "execution_count": 6,
     "metadata": {},
     "output_type": "execute_result"
    }
   ],
   "source": [
    "# Check duplicated row\n",
    "df_2017.duplicated().sum()"
   ]
  },
  {
   "cell_type": "markdown",
   "metadata": {},
   "source": [
    "### Data Assesment Result\n",
    "\n",
    "#### Quality Issues\n",
    "\n",
    "* `start_time` and `end_time` columns in object dtype\n",
    "* `start_station_id` and `end_station_id` columns in int64 dtype\n",
    "* `start_station_latitude`, `start_station_longitude`, `end_station_latitude`, and `end_station_longitude` columns in float64 dtype\n",
    "* `bike_id` column in int64 dtype\n",
    "* `user_type` in object dtype"
   ]
  },
  {
   "cell_type": "markdown",
   "metadata": {},
   "source": [
    "## Data Cleaning\n",
    "\n",
    "The programmatic data cleaning process:\n",
    "\n",
    "* Define\n",
    "* Code\n",
    "* Test\n",
    "\n",
    "What we will do for this dataframe is change columns dtype properly based on it's value.  \n",
    "As always, we need to copy our dataframe before do any cleaning process, so we can refer back to the old ones."
   ]
  },
  {
   "cell_type": "code",
   "execution_count": 7,
   "metadata": {},
   "outputs": [],
   "source": [
    "# Define: Make a new copy before doing any operation, so we can refer back to the old ones.\n",
    "df_2017_clean = df_2017.copy()"
   ]
  },
  {
   "cell_type": "code",
   "execution_count": 8,
   "metadata": {},
   "outputs": [
    {
     "name": "stdout",
     "output_type": "stream",
     "text": [
      "<class 'pandas.core.frame.DataFrame'>\n",
      "RangeIndex: 519700 entries, 0 to 519699\n",
      "Data columns (total 13 columns):\n",
      " #   Column                   Non-Null Count   Dtype         \n",
      "---  ------                   --------------   -----         \n",
      " 0   duration_sec             519700 non-null  int64         \n",
      " 1   start_time               519700 non-null  datetime64[ns]\n",
      " 2   end_time                 519700 non-null  datetime64[ns]\n",
      " 3   start_station_id         519700 non-null  object        \n",
      " 4   start_station_name       519700 non-null  object        \n",
      " 5   start_station_latitude   519700 non-null  object        \n",
      " 6   start_station_longitude  519700 non-null  object        \n",
      " 7   end_station_id           519700 non-null  object        \n",
      " 8   end_station_name         519700 non-null  object        \n",
      " 9   end_station_latitude     519700 non-null  object        \n",
      " 10  end_station_longitude    519700 non-null  object        \n",
      " 11  bike_id                  519700 non-null  object        \n",
      " 12  user_type                519700 non-null  category      \n",
      "dtypes: category(1), datetime64[ns](2), int64(1), object(9)\n",
      "memory usage: 48.1+ MB\n"
     ]
    }
   ],
   "source": [
    "# Define: Change columns dtype based on it's value\n",
    "\n",
    "# Code\n",
    "dtype= {'start_time': 'datetime64', \n",
    "        'end_time': 'datetime64',\n",
    "        \n",
    "        'start_station_id': 'object',\n",
    "        'end_station_id': 'object',\n",
    "        \n",
    "        'start_station_latitude': 'object',\n",
    "        'start_station_longitude':  'object',\n",
    "        'end_station_latitude':  'object',\n",
    "        'end_station_longitude':  'object',\n",
    "        \n",
    "        'bike_id': 'object',\n",
    "        'user_type': 'category'}\n",
    "\n",
    "df_2017_clean = df_2017_clean.astype(dtype)\n",
    "\n",
    "# Test\n",
    "df_2017_clean.info()"
   ]
  },
  {
   "cell_type": "markdown",
   "metadata": {},
   "source": [
    "> Load in your dataset and describe its properties through the questions below.\n",
    "Try and motivate your exploration goals through this section."
   ]
  },
  {
   "cell_type": "code",
   "execution_count": 9,
   "metadata": {},
   "outputs": [
    {
     "data": {
      "text/html": [
       "<div>\n",
       "<style scoped>\n",
       "    .dataframe tbody tr th:only-of-type {\n",
       "        vertical-align: middle;\n",
       "    }\n",
       "\n",
       "    .dataframe tbody tr th {\n",
       "        vertical-align: top;\n",
       "    }\n",
       "\n",
       "    .dataframe thead th {\n",
       "        text-align: right;\n",
       "    }\n",
       "</style>\n",
       "<table border=\"1\" class=\"dataframe\">\n",
       "  <thead>\n",
       "    <tr style=\"text-align: right;\">\n",
       "      <th></th>\n",
       "      <th>duration_sec</th>\n",
       "      <th>start_time</th>\n",
       "      <th>end_time</th>\n",
       "      <th>start_station_id</th>\n",
       "      <th>start_station_name</th>\n",
       "      <th>start_station_latitude</th>\n",
       "      <th>start_station_longitude</th>\n",
       "      <th>end_station_id</th>\n",
       "      <th>end_station_name</th>\n",
       "      <th>end_station_latitude</th>\n",
       "      <th>end_station_longitude</th>\n",
       "      <th>bike_id</th>\n",
       "      <th>user_type</th>\n",
       "    </tr>\n",
       "  </thead>\n",
       "  <tbody>\n",
       "    <tr>\n",
       "      <th>0</th>\n",
       "      <td>80110</td>\n",
       "      <td>2017-12-31 16:57:39.654</td>\n",
       "      <td>2018-01-01 15:12:50.245</td>\n",
       "      <td>74</td>\n",
       "      <td>Laguna St at Hayes St</td>\n",
       "      <td>37.7764</td>\n",
       "      <td>-122.426</td>\n",
       "      <td>43</td>\n",
       "      <td>San Francisco Public Library (Grove St at Hyde...</td>\n",
       "      <td>37.7788</td>\n",
       "      <td>-122.416</td>\n",
       "      <td>96</td>\n",
       "      <td>Customer</td>\n",
       "    </tr>\n",
       "    <tr>\n",
       "      <th>1</th>\n",
       "      <td>78800</td>\n",
       "      <td>2017-12-31 15:56:34.842</td>\n",
       "      <td>2018-01-01 13:49:55.617</td>\n",
       "      <td>284</td>\n",
       "      <td>Yerba Buena Center for the Arts (Howard St at ...</td>\n",
       "      <td>37.7849</td>\n",
       "      <td>-122.401</td>\n",
       "      <td>96</td>\n",
       "      <td>Dolores St at 15th St</td>\n",
       "      <td>37.7662</td>\n",
       "      <td>-122.427</td>\n",
       "      <td>88</td>\n",
       "      <td>Customer</td>\n",
       "    </tr>\n",
       "    <tr>\n",
       "      <th>2</th>\n",
       "      <td>45768</td>\n",
       "      <td>2017-12-31 22:45:48.411</td>\n",
       "      <td>2018-01-01 11:28:36.883</td>\n",
       "      <td>245</td>\n",
       "      <td>Downtown Berkeley BART</td>\n",
       "      <td>37.8703</td>\n",
       "      <td>-122.268</td>\n",
       "      <td>245</td>\n",
       "      <td>Downtown Berkeley BART</td>\n",
       "      <td>37.8703</td>\n",
       "      <td>-122.268</td>\n",
       "      <td>1094</td>\n",
       "      <td>Customer</td>\n",
       "    </tr>\n",
       "    <tr>\n",
       "      <th>3</th>\n",
       "      <td>62172</td>\n",
       "      <td>2017-12-31 17:31:10.636</td>\n",
       "      <td>2018-01-01 10:47:23.531</td>\n",
       "      <td>60</td>\n",
       "      <td>8th St at Ringold St</td>\n",
       "      <td>37.7745</td>\n",
       "      <td>-122.409</td>\n",
       "      <td>5</td>\n",
       "      <td>Powell St BART Station (Market St at 5th St)</td>\n",
       "      <td>37.7839</td>\n",
       "      <td>-122.408</td>\n",
       "      <td>2831</td>\n",
       "      <td>Customer</td>\n",
       "    </tr>\n",
       "    <tr>\n",
       "      <th>4</th>\n",
       "      <td>43603</td>\n",
       "      <td>2017-12-31 14:23:14.001</td>\n",
       "      <td>2018-01-01 02:29:57.571</td>\n",
       "      <td>239</td>\n",
       "      <td>Bancroft Way at Telegraph Ave</td>\n",
       "      <td>37.8688</td>\n",
       "      <td>-122.259</td>\n",
       "      <td>247</td>\n",
       "      <td>Fulton St at Bancroft Way</td>\n",
       "      <td>37.8678</td>\n",
       "      <td>-122.266</td>\n",
       "      <td>3167</td>\n",
       "      <td>Subscriber</td>\n",
       "    </tr>\n",
       "    <tr>\n",
       "      <th>...</th>\n",
       "      <td>...</td>\n",
       "      <td>...</td>\n",
       "      <td>...</td>\n",
       "      <td>...</td>\n",
       "      <td>...</td>\n",
       "      <td>...</td>\n",
       "      <td>...</td>\n",
       "      <td>...</td>\n",
       "      <td>...</td>\n",
       "      <td>...</td>\n",
       "      <td>...</td>\n",
       "      <td>...</td>\n",
       "      <td>...</td>\n",
       "    </tr>\n",
       "    <tr>\n",
       "      <th>519695</th>\n",
       "      <td>435</td>\n",
       "      <td>2017-06-28 10:00:54.528</td>\n",
       "      <td>2017-06-28 10:08:10.438</td>\n",
       "      <td>81</td>\n",
       "      <td>Berry St at 4th St</td>\n",
       "      <td>37.7759</td>\n",
       "      <td>-122.393</td>\n",
       "      <td>45</td>\n",
       "      <td>5th St at Howard St</td>\n",
       "      <td>37.7818</td>\n",
       "      <td>-122.405</td>\n",
       "      <td>400</td>\n",
       "      <td>Subscriber</td>\n",
       "    </tr>\n",
       "    <tr>\n",
       "      <th>519696</th>\n",
       "      <td>431</td>\n",
       "      <td>2017-06-28 09:56:39.631</td>\n",
       "      <td>2017-06-28 10:03:51.090</td>\n",
       "      <td>66</td>\n",
       "      <td>3rd St at Townsend St</td>\n",
       "      <td>37.7787</td>\n",
       "      <td>-122.393</td>\n",
       "      <td>321</td>\n",
       "      <td>5th at Folsom</td>\n",
       "      <td>37.7801</td>\n",
       "      <td>-122.403</td>\n",
       "      <td>316</td>\n",
       "      <td>Subscriber</td>\n",
       "    </tr>\n",
       "    <tr>\n",
       "      <th>519697</th>\n",
       "      <td>424</td>\n",
       "      <td>2017-06-28 09:47:36.347</td>\n",
       "      <td>2017-06-28 09:54:41.187</td>\n",
       "      <td>21</td>\n",
       "      <td>Montgomery St BART Station (Market St at 2nd St)</td>\n",
       "      <td>37.7896</td>\n",
       "      <td>-122.401</td>\n",
       "      <td>48</td>\n",
       "      <td>2nd St at S Park St</td>\n",
       "      <td>37.7824</td>\n",
       "      <td>-122.393</td>\n",
       "      <td>240</td>\n",
       "      <td>Subscriber</td>\n",
       "    </tr>\n",
       "    <tr>\n",
       "      <th>519698</th>\n",
       "      <td>366</td>\n",
       "      <td>2017-06-28 09:47:41.664</td>\n",
       "      <td>2017-06-28 09:53:47.715</td>\n",
       "      <td>58</td>\n",
       "      <td>Market St at 10th St</td>\n",
       "      <td>37.7766</td>\n",
       "      <td>-122.417</td>\n",
       "      <td>59</td>\n",
       "      <td>S Van Ness Ave at Market St</td>\n",
       "      <td>37.7748</td>\n",
       "      <td>-122.419</td>\n",
       "      <td>669</td>\n",
       "      <td>Subscriber</td>\n",
       "    </tr>\n",
       "    <tr>\n",
       "      <th>519699</th>\n",
       "      <td>188</td>\n",
       "      <td>2017-06-28 09:49:46.377</td>\n",
       "      <td>2017-06-28 09:52:55.338</td>\n",
       "      <td>25</td>\n",
       "      <td>Howard St at 2nd St</td>\n",
       "      <td>37.7875</td>\n",
       "      <td>-122.397</td>\n",
       "      <td>48</td>\n",
       "      <td>2nd St at S Park St</td>\n",
       "      <td>37.7824</td>\n",
       "      <td>-122.393</td>\n",
       "      <td>117</td>\n",
       "      <td>Subscriber</td>\n",
       "    </tr>\n",
       "  </tbody>\n",
       "</table>\n",
       "<p>519700 rows × 13 columns</p>\n",
       "</div>"
      ],
      "text/plain": [
       "        duration_sec              start_time                end_time  \\\n",
       "0              80110 2017-12-31 16:57:39.654 2018-01-01 15:12:50.245   \n",
       "1              78800 2017-12-31 15:56:34.842 2018-01-01 13:49:55.617   \n",
       "2              45768 2017-12-31 22:45:48.411 2018-01-01 11:28:36.883   \n",
       "3              62172 2017-12-31 17:31:10.636 2018-01-01 10:47:23.531   \n",
       "4              43603 2017-12-31 14:23:14.001 2018-01-01 02:29:57.571   \n",
       "...              ...                     ...                     ...   \n",
       "519695           435 2017-06-28 10:00:54.528 2017-06-28 10:08:10.438   \n",
       "519696           431 2017-06-28 09:56:39.631 2017-06-28 10:03:51.090   \n",
       "519697           424 2017-06-28 09:47:36.347 2017-06-28 09:54:41.187   \n",
       "519698           366 2017-06-28 09:47:41.664 2017-06-28 09:53:47.715   \n",
       "519699           188 2017-06-28 09:49:46.377 2017-06-28 09:52:55.338   \n",
       "\n",
       "       start_station_id                                 start_station_name  \\\n",
       "0                    74                              Laguna St at Hayes St   \n",
       "1                   284  Yerba Buena Center for the Arts (Howard St at ...   \n",
       "2                   245                             Downtown Berkeley BART   \n",
       "3                    60                               8th St at Ringold St   \n",
       "4                   239                      Bancroft Way at Telegraph Ave   \n",
       "...                 ...                                                ...   \n",
       "519695               81                                 Berry St at 4th St   \n",
       "519696               66                              3rd St at Townsend St   \n",
       "519697               21   Montgomery St BART Station (Market St at 2nd St)   \n",
       "519698               58                               Market St at 10th St   \n",
       "519699               25                                Howard St at 2nd St   \n",
       "\n",
       "       start_station_latitude start_station_longitude end_station_id  \\\n",
       "0                     37.7764                -122.426             43   \n",
       "1                     37.7849                -122.401             96   \n",
       "2                     37.8703                -122.268            245   \n",
       "3                     37.7745                -122.409              5   \n",
       "4                     37.8688                -122.259            247   \n",
       "...                       ...                     ...            ...   \n",
       "519695                37.7759                -122.393             45   \n",
       "519696                37.7787                -122.393            321   \n",
       "519697                37.7896                -122.401             48   \n",
       "519698                37.7766                -122.417             59   \n",
       "519699                37.7875                -122.397             48   \n",
       "\n",
       "                                         end_station_name  \\\n",
       "0       San Francisco Public Library (Grove St at Hyde...   \n",
       "1                                   Dolores St at 15th St   \n",
       "2                                  Downtown Berkeley BART   \n",
       "3            Powell St BART Station (Market St at 5th St)   \n",
       "4                               Fulton St at Bancroft Way   \n",
       "...                                                   ...   \n",
       "519695                                5th St at Howard St   \n",
       "519696                                      5th at Folsom   \n",
       "519697                                2nd St at S Park St   \n",
       "519698                        S Van Ness Ave at Market St   \n",
       "519699                                2nd St at S Park St   \n",
       "\n",
       "       end_station_latitude end_station_longitude bike_id   user_type  \n",
       "0                   37.7788              -122.416      96    Customer  \n",
       "1                   37.7662              -122.427      88    Customer  \n",
       "2                   37.8703              -122.268    1094    Customer  \n",
       "3                   37.7839              -122.408    2831    Customer  \n",
       "4                   37.8678              -122.266    3167  Subscriber  \n",
       "...                     ...                   ...     ...         ...  \n",
       "519695              37.7818              -122.405     400  Subscriber  \n",
       "519696              37.7801              -122.403     316  Subscriber  \n",
       "519697              37.7824              -122.393     240  Subscriber  \n",
       "519698              37.7748              -122.419     669  Subscriber  \n",
       "519699              37.7824              -122.393     117  Subscriber  \n",
       "\n",
       "[519700 rows x 13 columns]"
      ]
     },
     "execution_count": 9,
     "metadata": {},
     "output_type": "execute_result"
    }
   ],
   "source": [
    "df_2017_clean"
   ]
  },
  {
   "cell_type": "markdown",
   "metadata": {},
   "source": [
    "### What is the structure of your dataset?\n",
    "\n",
    "> The 2017 dataset consists of 519700 rows × 13 columns. In the other words, this dataset has 519700 observations and 13 variables.\n",
    "\n",
    "### What is/are the main feature(s) of interest in your dataset?\n",
    "\n",
    "> The main  features of interest in this dataset is `duration_sec` and `start_time` column.\n",
    "\n",
    "### What features in the dataset do you think will help support your investigation into your feature(s) of interest?\n",
    "\n",
    "> From the main feature above, I thinks the feature that will help our investigation are station name / location, bike id and user type. Also, we can extract month, day, and hour feature from `start_time` for further analysis."
   ]
  },
  {
   "cell_type": "markdown",
   "metadata": {},
   "source": [
    "## Exploratory Data Analysis"
   ]
  },
  {
   "cell_type": "code",
   "execution_count": 10,
   "metadata": {},
   "outputs": [
    {
     "data": {
      "text/html": [
       "<div>\n",
       "<style scoped>\n",
       "    .dataframe tbody tr th:only-of-type {\n",
       "        vertical-align: middle;\n",
       "    }\n",
       "\n",
       "    .dataframe tbody tr th {\n",
       "        vertical-align: top;\n",
       "    }\n",
       "\n",
       "    .dataframe thead th {\n",
       "        text-align: right;\n",
       "    }\n",
       "</style>\n",
       "<table border=\"1\" class=\"dataframe\">\n",
       "  <thead>\n",
       "    <tr style=\"text-align: right;\">\n",
       "      <th></th>\n",
       "      <th>duration_sec</th>\n",
       "    </tr>\n",
       "  </thead>\n",
       "  <tbody>\n",
       "    <tr>\n",
       "      <th>count</th>\n",
       "      <td>519700.000000</td>\n",
       "    </tr>\n",
       "    <tr>\n",
       "      <th>mean</th>\n",
       "      <td>1099.009521</td>\n",
       "    </tr>\n",
       "    <tr>\n",
       "      <th>std</th>\n",
       "      <td>3444.146451</td>\n",
       "    </tr>\n",
       "    <tr>\n",
       "      <th>min</th>\n",
       "      <td>61.000000</td>\n",
       "    </tr>\n",
       "    <tr>\n",
       "      <th>25%</th>\n",
       "      <td>382.000000</td>\n",
       "    </tr>\n",
       "    <tr>\n",
       "      <th>50%</th>\n",
       "      <td>596.000000</td>\n",
       "    </tr>\n",
       "    <tr>\n",
       "      <th>75%</th>\n",
       "      <td>938.000000</td>\n",
       "    </tr>\n",
       "    <tr>\n",
       "      <th>max</th>\n",
       "      <td>86369.000000</td>\n",
       "    </tr>\n",
       "  </tbody>\n",
       "</table>\n",
       "</div>"
      ],
      "text/plain": [
       "        duration_sec\n",
       "count  519700.000000\n",
       "mean     1099.009521\n",
       "std      3444.146451\n",
       "min        61.000000\n",
       "25%       382.000000\n",
       "50%       596.000000\n",
       "75%       938.000000\n",
       "max     86369.000000"
      ]
     },
     "execution_count": 10,
     "metadata": {},
     "output_type": "execute_result"
    }
   ],
   "source": [
    "df_2017_clean.describe()"
   ]
  },
  {
   "cell_type": "code",
   "execution_count": 11,
   "metadata": {},
   "outputs": [
    {
     "data": {
      "text/html": [
       "<div>\n",
       "<style scoped>\n",
       "    .dataframe tbody tr th:only-of-type {\n",
       "        vertical-align: middle;\n",
       "    }\n",
       "\n",
       "    .dataframe tbody tr th {\n",
       "        vertical-align: top;\n",
       "    }\n",
       "\n",
       "    .dataframe thead tr th {\n",
       "        text-align: left;\n",
       "    }\n",
       "\n",
       "    .dataframe thead tr:last-of-type th {\n",
       "        text-align: right;\n",
       "    }\n",
       "</style>\n",
       "<table border=\"1\" class=\"dataframe\">\n",
       "  <thead>\n",
       "    <tr>\n",
       "      <th></th>\n",
       "      <th colspan=\"8\" halign=\"left\">duration_sec</th>\n",
       "    </tr>\n",
       "    <tr>\n",
       "      <th></th>\n",
       "      <th>count</th>\n",
       "      <th>mean</th>\n",
       "      <th>std</th>\n",
       "      <th>min</th>\n",
       "      <th>25%</th>\n",
       "      <th>50%</th>\n",
       "      <th>75%</th>\n",
       "      <th>max</th>\n",
       "    </tr>\n",
       "    <tr>\n",
       "      <th>user_type</th>\n",
       "      <th></th>\n",
       "      <th></th>\n",
       "      <th></th>\n",
       "      <th></th>\n",
       "      <th></th>\n",
       "      <th></th>\n",
       "      <th></th>\n",
       "      <th></th>\n",
       "    </tr>\n",
       "  </thead>\n",
       "  <tbody>\n",
       "    <tr>\n",
       "      <th>Customer</th>\n",
       "      <td>110470.0</td>\n",
       "      <td>2557.445786</td>\n",
       "      <td>6355.311637</td>\n",
       "      <td>61.0</td>\n",
       "      <td>667.0</td>\n",
       "      <td>1086.0</td>\n",
       "      <td>1754.0</td>\n",
       "      <td>86369.0</td>\n",
       "    </tr>\n",
       "    <tr>\n",
       "      <th>Subscriber</th>\n",
       "      <td>409230.0</td>\n",
       "      <td>705.310490</td>\n",
       "      <td>1852.582653</td>\n",
       "      <td>61.0</td>\n",
       "      <td>350.0</td>\n",
       "      <td>529.0</td>\n",
       "      <td>782.0</td>\n",
       "      <td>86075.0</td>\n",
       "    </tr>\n",
       "  </tbody>\n",
       "</table>\n",
       "</div>"
      ],
      "text/plain": [
       "           duration_sec                                                 \\\n",
       "                  count         mean          std   min    25%     50%   \n",
       "user_type                                                                \n",
       "Customer       110470.0  2557.445786  6355.311637  61.0  667.0  1086.0   \n",
       "Subscriber     409230.0   705.310490  1852.582653  61.0  350.0   529.0   \n",
       "\n",
       "                             \n",
       "               75%      max  \n",
       "user_type                    \n",
       "Customer    1754.0  86369.0  \n",
       "Subscriber   782.0  86075.0  "
      ]
     },
     "execution_count": 11,
     "metadata": {},
     "output_type": "execute_result"
    }
   ],
   "source": [
    "df_2017_clean.groupby('user_type').describe()"
   ]
  },
  {
   "cell_type": "code",
   "execution_count": 12,
   "metadata": {},
   "outputs": [
    {
     "data": {
      "image/png": "[encoded data removed]",
      "text/plain": [
       "<Figure size 432x288 with 1 Axes>"
      ]
     },
     "metadata": {
      "needs_background": "light"
     },
     "output_type": "display_data"
    }
   ],
   "source": [
    "df_2017_clean.hist();"
   ]
  },
  {
   "cell_type": "markdown",
   "metadata": {},
   "source": [
    "> Since the numeric data is only at duration column, the plotted histogram just one."
   ]
  },
  {
   "cell_type": "markdown",
   "metadata": {},
   "source": [
    "## Univariate Exploration\n",
    "\n",
    "> In this section, investigate distributions of individual variables. If\n",
    "you see unusual points or outliers, take a deeper look to clean things up\n",
    "and prepare yourself to look at relationships between variables.\n",
    "\n",
    "### Number of bicycle service users"
   ]
  },
  {
   "cell_type": "code",
   "execution_count": 13,
   "metadata": {},
   "outputs": [
    {
     "data": {
      "text/plain": [
       "['Customer', 'Subscriber']\n",
       "Categories (2, object): ['Customer', 'Subscriber']"
      ]
     },
     "execution_count": 13,
     "metadata": {},
     "output_type": "execute_result"
    }
   ],
   "source": [
    "# There is ony two type of user\n",
    "\n",
    "df_2017_clean.user_type.unique()"
   ]
  },
  {
   "cell_type": "code",
   "execution_count": 14,
   "metadata": {},
   "outputs": [
    {
     "data": {
      "image/png": "[encoded data removed]",
      "text/plain": [
       "<Figure size 720x432 with 1 Axes>"
      ]
     },
     "metadata": {
      "needs_background": "light"
     },
     "output_type": "display_data"
    }
   ],
   "source": [
    "# Show number of user using countplot\n",
    "\n",
    "plt.figure(figsize=(10,6))     \n",
    "base_color = sns.color_palette()[0]\n",
    "ax = sns.countplot(data=df_2017_clean, x ='user_type', color=base_color)\n",
    "\n",
    "# add annotations\n",
    "n_points = df_2017_clean.shape[0]\n",
    "cat_counts = df_2017_clean['user_type'].value_counts()\n",
    "locs, labels = plt.xticks() # get the current tick locations and labels\n",
    "\n",
    "# loop through each pair of locations and labels\n",
    "for loc, label in zip(locs, labels):\n",
    "\n",
    "    # get the text property for the label to get the correct count\n",
    "    count = cat_counts[label.get_text()]\n",
    "    pct_string = '{}'.format(count)\n",
    "\n",
    "    # print the annotation just below the top of the bar\n",
    "    plt.text(loc, count-8, pct_string, va='top', ha='center', color = 'w', fontsize=12)\n",
    "\n",
    "plt.title('Bike User Count')\n",
    "\n",
    "# Remove unnecessary features \n",
    "ax.spines['top'].set_visible(False)\n",
    "ax.spines['right'].set_visible(False)\n",
    "ax.spines['left'].set_visible(False)\n",
    "plt.yticks([])\n",
    "plt.ylabel('')\n",
    "plt.xlabel('')\n",
    "\n",
    "# Show the plot\n",
    "plt.show();"
   ]
  },
  {
   "cell_type": "code",
   "execution_count": 15,
   "metadata": {},
   "outputs": [
    {
     "data": {
      "image/png": "[encoded data removed]",
      "text/plain": [
       "<Figure size 720x432 with 1 Axes>"
      ]
     },
     "metadata": {},
     "output_type": "display_data"
    }
   ],
   "source": [
    "# Show user type by it's percentage\n",
    "\n",
    "plt.figure(figsize=(10,6))\n",
    "sorted_counts = df_2017_clean['user_type'].value_counts()\n",
    "plt.pie(sorted_counts, labels = sorted_counts.index, startangle = 90,\n",
    "        counterclock = False, autopct='%1.2f%%');\n",
    "plt.axis('square')\n",
    "plt.title('Bike User Count Comparison', fontsize=15);"
   ]
  },
  {
   "cell_type": "markdown",
   "metadata": {},
   "source": [
    "### Average trip durations"
   ]
  },
  {
   "cell_type": "code",
   "execution_count": 16,
   "metadata": {},
   "outputs": [
    {
     "data": {
      "text/plain": [
       "count    519700.000000\n",
       "mean       1099.009521\n",
       "std        3444.146451\n",
       "min          61.000000\n",
       "25%         382.000000\n",
       "50%         596.000000\n",
       "75%         938.000000\n",
       "max       86369.000000\n",
       "Name: duration_sec, dtype: float64"
      ]
     },
     "execution_count": 16,
     "metadata": {},
     "output_type": "execute_result"
    }
   ],
   "source": [
    "# Overall trip duration average\n",
    "\n",
    "df_2017_clean.duration_sec.describe()"
   ]
  },
  {
   "cell_type": "markdown",
   "metadata": {},
   "source": [
    "> Overall trip duration average is 1099.009521 seconds."
   ]
  },
  {
   "cell_type": "code",
   "execution_count": 17,
   "metadata": {},
   "outputs": [
    {
     "data": {
      "image/png": "[encoded data removed]",
      "text/plain": [
       "<Figure size 720x432 with 1 Axes>"
      ]
     },
     "metadata": {
      "needs_background": "light"
     },
     "output_type": "display_data"
    }
   ],
   "source": [
    "plt.figure(figsize=(10,6))\n",
    "sns.boxplot(data=df_2017_clean, x='duration_sec', orient='h');"
   ]
  },
  {
   "cell_type": "code",
   "execution_count": 18,
   "metadata": {},
   "outputs": [
    {
     "data": {
      "image/png": "[encoded data removed]",
      "text/plain": [
       "<Figure size 720x432 with 1 Axes>"
      ]
     },
     "metadata": {
      "needs_background": "light"
     },
     "output_type": "display_data"
    }
   ],
   "source": [
    "plt.figure(figsize=(10,6))\n",
    "plt.hist(df_2017_clean.duration_sec);"
   ]
  },
  {
   "cell_type": "markdown",
   "metadata": {},
   "source": [
    "> Make sure that, after every plot or related series of plots, that you\n",
    "include a Markdown cell with comments about what you observed, and what\n",
    "you plan on investigating next."
   ]
  },
  {
   "cell_type": "markdown",
   "metadata": {},
   "source": [
    "### Datetime exploration"
   ]
  },
  {
   "cell_type": "code",
   "execution_count": 19,
   "metadata": {},
   "outputs": [
    {
     "data": {
      "text/html": [
       "<div>\n",
       "<style scoped>\n",
       "    .dataframe tbody tr th:only-of-type {\n",
       "        vertical-align: middle;\n",
       "    }\n",
       "\n",
       "    .dataframe tbody tr th {\n",
       "        vertical-align: top;\n",
       "    }\n",
       "\n",
       "    .dataframe thead th {\n",
       "        text-align: right;\n",
       "    }\n",
       "</style>\n",
       "<table border=\"1\" class=\"dataframe\">\n",
       "  <thead>\n",
       "    <tr style=\"text-align: right;\">\n",
       "      <th></th>\n",
       "      <th>duration_sec</th>\n",
       "      <th>start_time</th>\n",
       "      <th>end_time</th>\n",
       "      <th>start_station_id</th>\n",
       "      <th>start_station_name</th>\n",
       "      <th>start_station_latitude</th>\n",
       "      <th>start_station_longitude</th>\n",
       "      <th>end_station_id</th>\n",
       "      <th>end_station_name</th>\n",
       "      <th>end_station_latitude</th>\n",
       "      <th>end_station_longitude</th>\n",
       "      <th>bike_id</th>\n",
       "      <th>user_type</th>\n",
       "      <th>month</th>\n",
       "      <th>start_day</th>\n",
       "      <th>hour</th>\n",
       "    </tr>\n",
       "  </thead>\n",
       "  <tbody>\n",
       "    <tr>\n",
       "      <th>0</th>\n",
       "      <td>80110</td>\n",
       "      <td>2017-12-31 16:57:39.654</td>\n",
       "      <td>2018-01-01 15:12:50.245</td>\n",
       "      <td>74</td>\n",
       "      <td>Laguna St at Hayes St</td>\n",
       "      <td>37.7764</td>\n",
       "      <td>-122.426</td>\n",
       "      <td>43</td>\n",
       "      <td>San Francisco Public Library (Grove St at Hyde...</td>\n",
       "      <td>37.7788</td>\n",
       "      <td>-122.416</td>\n",
       "      <td>96</td>\n",
       "      <td>Customer</td>\n",
       "      <td>December</td>\n",
       "      <td>Sunday</td>\n",
       "      <td>16</td>\n",
       "    </tr>\n",
       "    <tr>\n",
       "      <th>1</th>\n",
       "      <td>78800</td>\n",
       "      <td>2017-12-31 15:56:34.842</td>\n",
       "      <td>2018-01-01 13:49:55.617</td>\n",
       "      <td>284</td>\n",
       "      <td>Yerba Buena Center for the Arts (Howard St at ...</td>\n",
       "      <td>37.7849</td>\n",
       "      <td>-122.401</td>\n",
       "      <td>96</td>\n",
       "      <td>Dolores St at 15th St</td>\n",
       "      <td>37.7662</td>\n",
       "      <td>-122.427</td>\n",
       "      <td>88</td>\n",
       "      <td>Customer</td>\n",
       "      <td>December</td>\n",
       "      <td>Sunday</td>\n",
       "      <td>15</td>\n",
       "    </tr>\n",
       "    <tr>\n",
       "      <th>2</th>\n",
       "      <td>45768</td>\n",
       "      <td>2017-12-31 22:45:48.411</td>\n",
       "      <td>2018-01-01 11:28:36.883</td>\n",
       "      <td>245</td>\n",
       "      <td>Downtown Berkeley BART</td>\n",
       "      <td>37.8703</td>\n",
       "      <td>-122.268</td>\n",
       "      <td>245</td>\n",
       "      <td>Downtown Berkeley BART</td>\n",
       "      <td>37.8703</td>\n",
       "      <td>-122.268</td>\n",
       "      <td>1094</td>\n",
       "      <td>Customer</td>\n",
       "      <td>December</td>\n",
       "      <td>Sunday</td>\n",
       "      <td>22</td>\n",
       "    </tr>\n",
       "    <tr>\n",
       "      <th>3</th>\n",
       "      <td>62172</td>\n",
       "      <td>2017-12-31 17:31:10.636</td>\n",
       "      <td>2018-01-01 10:47:23.531</td>\n",
       "      <td>60</td>\n",
       "      <td>8th St at Ringold St</td>\n",
       "      <td>37.7745</td>\n",
       "      <td>-122.409</td>\n",
       "      <td>5</td>\n",
       "      <td>Powell St BART Station (Market St at 5th St)</td>\n",
       "      <td>37.7839</td>\n",
       "      <td>-122.408</td>\n",
       "      <td>2831</td>\n",
       "      <td>Customer</td>\n",
       "      <td>December</td>\n",
       "      <td>Sunday</td>\n",
       "      <td>17</td>\n",
       "    </tr>\n",
       "    <tr>\n",
       "      <th>4</th>\n",
       "      <td>43603</td>\n",
       "      <td>2017-12-31 14:23:14.001</td>\n",
       "      <td>2018-01-01 02:29:57.571</td>\n",
       "      <td>239</td>\n",
       "      <td>Bancroft Way at Telegraph Ave</td>\n",
       "      <td>37.8688</td>\n",
       "      <td>-122.259</td>\n",
       "      <td>247</td>\n",
       "      <td>Fulton St at Bancroft Way</td>\n",
       "      <td>37.8678</td>\n",
       "      <td>-122.266</td>\n",
       "      <td>3167</td>\n",
       "      <td>Subscriber</td>\n",
       "      <td>December</td>\n",
       "      <td>Sunday</td>\n",
       "      <td>14</td>\n",
       "    </tr>\n",
       "    <tr>\n",
       "      <th>...</th>\n",
       "      <td>...</td>\n",
       "      <td>...</td>\n",
       "      <td>...</td>\n",
       "      <td>...</td>\n",
       "      <td>...</td>\n",
       "      <td>...</td>\n",
       "      <td>...</td>\n",
       "      <td>...</td>\n",
       "      <td>...</td>\n",
       "      <td>...</td>\n",
       "      <td>...</td>\n",
       "      <td>...</td>\n",
       "      <td>...</td>\n",
       "      <td>...</td>\n",
       "      <td>...</td>\n",
       "      <td>...</td>\n",
       "    </tr>\n",
       "    <tr>\n",
       "      <th>519695</th>\n",
       "      <td>435</td>\n",
       "      <td>2017-06-28 10:00:54.528</td>\n",
       "      <td>2017-06-28 10:08:10.438</td>\n",
       "      <td>81</td>\n",
       "      <td>Berry St at 4th St</td>\n",
       "      <td>37.7759</td>\n",
       "      <td>-122.393</td>\n",
       "      <td>45</td>\n",
       "      <td>5th St at Howard St</td>\n",
       "      <td>37.7818</td>\n",
       "      <td>-122.405</td>\n",
       "      <td>400</td>\n",
       "      <td>Subscriber</td>\n",
       "      <td>June</td>\n",
       "      <td>Wednesday</td>\n",
       "      <td>10</td>\n",
       "    </tr>\n",
       "    <tr>\n",
       "      <th>519696</th>\n",
       "      <td>431</td>\n",
       "      <td>2017-06-28 09:56:39.631</td>\n",
       "      <td>2017-06-28 10:03:51.090</td>\n",
       "      <td>66</td>\n",
       "      <td>3rd St at Townsend St</td>\n",
       "      <td>37.7787</td>\n",
       "      <td>-122.393</td>\n",
       "      <td>321</td>\n",
       "      <td>5th at Folsom</td>\n",
       "      <td>37.7801</td>\n",
       "      <td>-122.403</td>\n",
       "      <td>316</td>\n",
       "      <td>Subscriber</td>\n",
       "      <td>June</td>\n",
       "      <td>Wednesday</td>\n",
       "      <td>9</td>\n",
       "    </tr>\n",
       "    <tr>\n",
       "      <th>519697</th>\n",
       "      <td>424</td>\n",
       "      <td>2017-06-28 09:47:36.347</td>\n",
       "      <td>2017-06-28 09:54:41.187</td>\n",
       "      <td>21</td>\n",
       "      <td>Montgomery St BART Station (Market St at 2nd St)</td>\n",
       "      <td>37.7896</td>\n",
       "      <td>-122.401</td>\n",
       "      <td>48</td>\n",
       "      <td>2nd St at S Park St</td>\n",
       "      <td>37.7824</td>\n",
       "      <td>-122.393</td>\n",
       "      <td>240</td>\n",
       "      <td>Subscriber</td>\n",
       "      <td>June</td>\n",
       "      <td>Wednesday</td>\n",
       "      <td>9</td>\n",
       "    </tr>\n",
       "    <tr>\n",
       "      <th>519698</th>\n",
       "      <td>366</td>\n",
       "      <td>2017-06-28 09:47:41.664</td>\n",
       "      <td>2017-06-28 09:53:47.715</td>\n",
       "      <td>58</td>\n",
       "      <td>Market St at 10th St</td>\n",
       "      <td>37.7766</td>\n",
       "      <td>-122.417</td>\n",
       "      <td>59</td>\n",
       "      <td>S Van Ness Ave at Market St</td>\n",
       "      <td>37.7748</td>\n",
       "      <td>-122.419</td>\n",
       "      <td>669</td>\n",
       "      <td>Subscriber</td>\n",
       "      <td>June</td>\n",
       "      <td>Wednesday</td>\n",
       "      <td>9</td>\n",
       "    </tr>\n",
       "    <tr>\n",
       "      <th>519699</th>\n",
       "      <td>188</td>\n",
       "      <td>2017-06-28 09:49:46.377</td>\n",
       "      <td>2017-06-28 09:52:55.338</td>\n",
       "      <td>25</td>\n",
       "      <td>Howard St at 2nd St</td>\n",
       "      <td>37.7875</td>\n",
       "      <td>-122.397</td>\n",
       "      <td>48</td>\n",
       "      <td>2nd St at S Park St</td>\n",
       "      <td>37.7824</td>\n",
       "      <td>-122.393</td>\n",
       "      <td>117</td>\n",
       "      <td>Subscriber</td>\n",
       "      <td>June</td>\n",
       "      <td>Wednesday</td>\n",
       "      <td>9</td>\n",
       "    </tr>\n",
       "  </tbody>\n",
       "</table>\n",
       "<p>519700 rows × 16 columns</p>\n",
       "</div>"
      ],
      "text/plain": [
       "        duration_sec              start_time                end_time  \\\n",
       "0              80110 2017-12-31 16:57:39.654 2018-01-01 15:12:50.245   \n",
       "1              78800 2017-12-31 15:56:34.842 2018-01-01 13:49:55.617   \n",
       "2              45768 2017-12-31 22:45:48.411 2018-01-01 11:28:36.883   \n",
       "3              62172 2017-12-31 17:31:10.636 2018-01-01 10:47:23.531   \n",
       "4              43603 2017-12-31 14:23:14.001 2018-01-01 02:29:57.571   \n",
       "...              ...                     ...                     ...   \n",
       "519695           435 2017-06-28 10:00:54.528 2017-06-28 10:08:10.438   \n",
       "519696           431 2017-06-28 09:56:39.631 2017-06-28 10:03:51.090   \n",
       "519697           424 2017-06-28 09:47:36.347 2017-06-28 09:54:41.187   \n",
       "519698           366 2017-06-28 09:47:41.664 2017-06-28 09:53:47.715   \n",
       "519699           188 2017-06-28 09:49:46.377 2017-06-28 09:52:55.338   \n",
       "\n",
       "       start_station_id                                 start_station_name  \\\n",
       "0                    74                              Laguna St at Hayes St   \n",
       "1                   284  Yerba Buena Center for the Arts (Howard St at ...   \n",
       "2                   245                             Downtown Berkeley BART   \n",
       "3                    60                               8th St at Ringold St   \n",
       "4                   239                      Bancroft Way at Telegraph Ave   \n",
       "...                 ...                                                ...   \n",
       "519695               81                                 Berry St at 4th St   \n",
       "519696               66                              3rd St at Townsend St   \n",
       "519697               21   Montgomery St BART Station (Market St at 2nd St)   \n",
       "519698               58                               Market St at 10th St   \n",
       "519699               25                                Howard St at 2nd St   \n",
       "\n",
       "       start_station_latitude start_station_longitude end_station_id  \\\n",
       "0                     37.7764                -122.426             43   \n",
       "1                     37.7849                -122.401             96   \n",
       "2                     37.8703                -122.268            245   \n",
       "3                     37.7745                -122.409              5   \n",
       "4                     37.8688                -122.259            247   \n",
       "...                       ...                     ...            ...   \n",
       "519695                37.7759                -122.393             45   \n",
       "519696                37.7787                -122.393            321   \n",
       "519697                37.7896                -122.401             48   \n",
       "519698                37.7766                -122.417             59   \n",
       "519699                37.7875                -122.397             48   \n",
       "\n",
       "                                         end_station_name  \\\n",
       "0       San Francisco Public Library (Grove St at Hyde...   \n",
       "1                                   Dolores St at 15th St   \n",
       "2                                  Downtown Berkeley BART   \n",
       "3            Powell St BART Station (Market St at 5th St)   \n",
       "4                               Fulton St at Bancroft Way   \n",
       "...                                                   ...   \n",
       "519695                                5th St at Howard St   \n",
       "519696                                      5th at Folsom   \n",
       "519697                                2nd St at S Park St   \n",
       "519698                        S Van Ness Ave at Market St   \n",
       "519699                                2nd St at S Park St   \n",
       "\n",
       "       end_station_latitude end_station_longitude bike_id   user_type  \\\n",
       "0                   37.7788              -122.416      96    Customer   \n",
       "1                   37.7662              -122.427      88    Customer   \n",
       "2                   37.8703              -122.268    1094    Customer   \n",
       "3                   37.7839              -122.408    2831    Customer   \n",
       "4                   37.8678              -122.266    3167  Subscriber   \n",
       "...                     ...                   ...     ...         ...   \n",
       "519695              37.7818              -122.405     400  Subscriber   \n",
       "519696              37.7801              -122.403     316  Subscriber   \n",
       "519697              37.7824              -122.393     240  Subscriber   \n",
       "519698              37.7748              -122.419     669  Subscriber   \n",
       "519699              37.7824              -122.393     117  Subscriber   \n",
       "\n",
       "           month  start_day  hour  \n",
       "0       December     Sunday    16  \n",
       "1       December     Sunday    15  \n",
       "2       December     Sunday    22  \n",
       "3       December     Sunday    17  \n",
       "4       December     Sunday    14  \n",
       "...          ...        ...   ...  \n",
       "519695      June  Wednesday    10  \n",
       "519696      June  Wednesday     9  \n",
       "519697      June  Wednesday     9  \n",
       "519698      June  Wednesday     9  \n",
       "519699      June  Wednesday     9  \n",
       "\n",
       "[519700 rows x 16 columns]"
      ]
     },
     "execution_count": 19,
     "metadata": {},
     "output_type": "execute_result"
    }
   ],
   "source": [
    "# Make new columns for analysis (month, start_day, end_day, and hour)\n",
    "\n",
    "df_2017_clean['month'] = df_2017_clean['start_time'].dt.month_name()\n",
    "df_2017_clean['start_day'] = df_2017_clean['start_time'].dt.day_name()\n",
    "# df_2017_clean['end_day'] = df_2017_clean['end_time'].dt.day_name()\n",
    "df_2017_clean['hour'] = df_2017_clean['start_time'].dt.hour\n",
    "df_2017_clean"
   ]
  },
  {
   "cell_type": "markdown",
   "metadata": {},
   "source": [
    "#### Based on month"
   ]
  },
  {
   "cell_type": "code",
   "execution_count": 20,
   "metadata": {},
   "outputs": [
    {
     "data": {
      "text/plain": [
       "October      108937\n",
       "September     98558\n",
       "November      95612\n",
       "December      86539\n",
       "August        83292\n",
       "July          44073\n",
       "June           2689\n",
       "Name: month, dtype: int64"
      ]
     },
     "execution_count": 20,
     "metadata": {},
     "output_type": "execute_result"
    }
   ],
   "source": [
    "df_2017_clean.month.value_counts()"
   ]
  },
  {
   "cell_type": "markdown",
   "metadata": {},
   "source": [
    "> This dataset is started from June 2017. From the [Wikipedia](https://en.wikipedia.org/wiki/Bay_Wheels), the Ford GoBike is launched at June 28, 2017. So there is no entry data before that date."
   ]
  },
  {
   "cell_type": "code",
   "execution_count": 21,
   "metadata": {},
   "outputs": [
    {
     "data": {
      "text/plain": [
       "2017-06-30    1038\n",
       "2017-06-29    1019\n",
       "2017-06-28     632\n",
       "Name: date, dtype: int64"
      ]
     },
     "execution_count": 21,
     "metadata": {},
     "output_type": "execute_result"
    }
   ],
   "source": [
    "# Make new column to extract it's date only\n",
    "df_2017_clean['date'] = df_2017_clean['start_time'].dt.date\n",
    "\n",
    "june = df_2017_clean['month'] == 'June'\n",
    "df_2017_clean[june]['date'].value_counts()"
   ]
  },
  {
   "cell_type": "markdown",
   "metadata": {},
   "source": [
    "> This dataset is started from June 2017. From the [Wikipedia](https://en.wikipedia.org/wiki/Bay_Wheels), the Ford GoBike is launched at June 28, 2017. So there is no entry data before that date.\n",
    "\n",
    "Next, we will remove the June entry. Hence, analysis will be carried out for the following months."
   ]
  },
  {
   "cell_type": "code",
   "execution_count": 22,
   "metadata": {},
   "outputs": [
    {
     "data": {
      "text/html": [
       "<div>\n",
       "<style scoped>\n",
       "    .dataframe tbody tr th:only-of-type {\n",
       "        vertical-align: middle;\n",
       "    }\n",
       "\n",
       "    .dataframe tbody tr th {\n",
       "        vertical-align: top;\n",
       "    }\n",
       "\n",
       "    .dataframe thead th {\n",
       "        text-align: right;\n",
       "    }\n",
       "</style>\n",
       "<table border=\"1\" class=\"dataframe\">\n",
       "  <thead>\n",
       "    <tr style=\"text-align: right;\">\n",
       "      <th></th>\n",
       "      <th>duration_sec</th>\n",
       "      <th>start_time</th>\n",
       "      <th>end_time</th>\n",
       "      <th>start_station_id</th>\n",
       "      <th>start_station_name</th>\n",
       "      <th>start_station_latitude</th>\n",
       "      <th>start_station_longitude</th>\n",
       "      <th>end_station_id</th>\n",
       "      <th>end_station_name</th>\n",
       "      <th>end_station_latitude</th>\n",
       "      <th>end_station_longitude</th>\n",
       "      <th>bike_id</th>\n",
       "      <th>user_type</th>\n",
       "      <th>month</th>\n",
       "      <th>start_day</th>\n",
       "      <th>hour</th>\n",
       "      <th>date</th>\n",
       "    </tr>\n",
       "  </thead>\n",
       "  <tbody>\n",
       "    <tr>\n",
       "      <th>0</th>\n",
       "      <td>80110</td>\n",
       "      <td>2017-12-31 16:57:39.654</td>\n",
       "      <td>2018-01-01 15:12:50.245</td>\n",
       "      <td>74</td>\n",
       "      <td>Laguna St at Hayes St</td>\n",
       "      <td>37.7764</td>\n",
       "      <td>-122.426</td>\n",
       "      <td>43</td>\n",
       "      <td>San Francisco Public Library (Grove St at Hyde...</td>\n",
       "      <td>37.7788</td>\n",
       "      <td>-122.416</td>\n",
       "      <td>96</td>\n",
       "      <td>Customer</td>\n",
       "      <td>December</td>\n",
       "      <td>Sunday</td>\n",
       "      <td>16</td>\n",
       "      <td>2017-12-31</td>\n",
       "    </tr>\n",
       "    <tr>\n",
       "      <th>1</th>\n",
       "      <td>78800</td>\n",
       "      <td>2017-12-31 15:56:34.842</td>\n",
       "      <td>2018-01-01 13:49:55.617</td>\n",
       "      <td>284</td>\n",
       "      <td>Yerba Buena Center for the Arts (Howard St at ...</td>\n",
       "      <td>37.7849</td>\n",
       "      <td>-122.401</td>\n",
       "      <td>96</td>\n",
       "      <td>Dolores St at 15th St</td>\n",
       "      <td>37.7662</td>\n",
       "      <td>-122.427</td>\n",
       "      <td>88</td>\n",
       "      <td>Customer</td>\n",
       "      <td>December</td>\n",
       "      <td>Sunday</td>\n",
       "      <td>15</td>\n",
       "      <td>2017-12-31</td>\n",
       "    </tr>\n",
       "    <tr>\n",
       "      <th>2</th>\n",
       "      <td>45768</td>\n",
       "      <td>2017-12-31 22:45:48.411</td>\n",
       "      <td>2018-01-01 11:28:36.883</td>\n",
       "      <td>245</td>\n",
       "      <td>Downtown Berkeley BART</td>\n",
       "      <td>37.8703</td>\n",
       "      <td>-122.268</td>\n",
       "      <td>245</td>\n",
       "      <td>Downtown Berkeley BART</td>\n",
       "      <td>37.8703</td>\n",
       "      <td>-122.268</td>\n",
       "      <td>1094</td>\n",
       "      <td>Customer</td>\n",
       "      <td>December</td>\n",
       "      <td>Sunday</td>\n",
       "      <td>22</td>\n",
       "      <td>2017-12-31</td>\n",
       "    </tr>\n",
       "    <tr>\n",
       "      <th>3</th>\n",
       "      <td>62172</td>\n",
       "      <td>2017-12-31 17:31:10.636</td>\n",
       "      <td>2018-01-01 10:47:23.531</td>\n",
       "      <td>60</td>\n",
       "      <td>8th St at Ringold St</td>\n",
       "      <td>37.7745</td>\n",
       "      <td>-122.409</td>\n",
       "      <td>5</td>\n",
       "      <td>Powell St BART Station (Market St at 5th St)</td>\n",
       "      <td>37.7839</td>\n",
       "      <td>-122.408</td>\n",
       "      <td>2831</td>\n",
       "      <td>Customer</td>\n",
       "      <td>December</td>\n",
       "      <td>Sunday</td>\n",
       "      <td>17</td>\n",
       "      <td>2017-12-31</td>\n",
       "    </tr>\n",
       "    <tr>\n",
       "      <th>4</th>\n",
       "      <td>43603</td>\n",
       "      <td>2017-12-31 14:23:14.001</td>\n",
       "      <td>2018-01-01 02:29:57.571</td>\n",
       "      <td>239</td>\n",
       "      <td>Bancroft Way at Telegraph Ave</td>\n",
       "      <td>37.8688</td>\n",
       "      <td>-122.259</td>\n",
       "      <td>247</td>\n",
       "      <td>Fulton St at Bancroft Way</td>\n",
       "      <td>37.8678</td>\n",
       "      <td>-122.266</td>\n",
       "      <td>3167</td>\n",
       "      <td>Subscriber</td>\n",
       "      <td>December</td>\n",
       "      <td>Sunday</td>\n",
       "      <td>14</td>\n",
       "      <td>2017-12-31</td>\n",
       "    </tr>\n",
       "    <tr>\n",
       "      <th>...</th>\n",
       "      <td>...</td>\n",
       "      <td>...</td>\n",
       "      <td>...</td>\n",
       "      <td>...</td>\n",
       "      <td>...</td>\n",
       "      <td>...</td>\n",
       "      <td>...</td>\n",
       "      <td>...</td>\n",
       "      <td>...</td>\n",
       "      <td>...</td>\n",
       "      <td>...</td>\n",
       "      <td>...</td>\n",
       "      <td>...</td>\n",
       "      <td>...</td>\n",
       "      <td>...</td>\n",
       "      <td>...</td>\n",
       "      <td>...</td>\n",
       "    </tr>\n",
       "    <tr>\n",
       "      <th>517006</th>\n",
       "      <td>796</td>\n",
       "      <td>2017-07-01 02:30:42.375</td>\n",
       "      <td>2017-07-01 02:43:58.779</td>\n",
       "      <td>58</td>\n",
       "      <td>Market St at 10th St</td>\n",
       "      <td>37.7766</td>\n",
       "      <td>-122.417</td>\n",
       "      <td>59</td>\n",
       "      <td>S Van Ness Ave at Market St</td>\n",
       "      <td>37.7748</td>\n",
       "      <td>-122.419</td>\n",
       "      <td>887</td>\n",
       "      <td>Customer</td>\n",
       "      <td>July</td>\n",
       "      <td>Saturday</td>\n",
       "      <td>2</td>\n",
       "      <td>2017-07-01</td>\n",
       "    </tr>\n",
       "    <tr>\n",
       "      <th>517007</th>\n",
       "      <td>229</td>\n",
       "      <td>2017-07-01 02:11:07.168</td>\n",
       "      <td>2017-07-01 02:14:56.593</td>\n",
       "      <td>25</td>\n",
       "      <td>Howard St at 2nd St</td>\n",
       "      <td>37.7875</td>\n",
       "      <td>-122.397</td>\n",
       "      <td>19</td>\n",
       "      <td>Post St at Kearny St</td>\n",
       "      <td>37.789</td>\n",
       "      <td>-122.403</td>\n",
       "      <td>622</td>\n",
       "      <td>Subscriber</td>\n",
       "      <td>July</td>\n",
       "      <td>Saturday</td>\n",
       "      <td>2</td>\n",
       "      <td>2017-07-01</td>\n",
       "    </tr>\n",
       "    <tr>\n",
       "      <th>517008</th>\n",
       "      <td>205</td>\n",
       "      <td>2017-07-01 02:05:36.240</td>\n",
       "      <td>2017-07-01 02:09:02.044</td>\n",
       "      <td>25</td>\n",
       "      <td>Howard St at 2nd St</td>\n",
       "      <td>37.7875</td>\n",
       "      <td>-122.397</td>\n",
       "      <td>48</td>\n",
       "      <td>2nd St at S Park St</td>\n",
       "      <td>37.7824</td>\n",
       "      <td>-122.393</td>\n",
       "      <td>45</td>\n",
       "      <td>Subscriber</td>\n",
       "      <td>July</td>\n",
       "      <td>Saturday</td>\n",
       "      <td>2</td>\n",
       "      <td>2017-07-01</td>\n",
       "    </tr>\n",
       "    <tr>\n",
       "      <th>517009</th>\n",
       "      <td>282</td>\n",
       "      <td>2017-07-01 01:21:12.583</td>\n",
       "      <td>2017-07-01 01:25:55.307</td>\n",
       "      <td>41</td>\n",
       "      <td>Golden Gate Ave at Polk St</td>\n",
       "      <td>37.7813</td>\n",
       "      <td>-122.419</td>\n",
       "      <td>59</td>\n",
       "      <td>S Van Ness Ave at Market St</td>\n",
       "      <td>37.7748</td>\n",
       "      <td>-122.419</td>\n",
       "      <td>245</td>\n",
       "      <td>Subscriber</td>\n",
       "      <td>July</td>\n",
       "      <td>Saturday</td>\n",
       "      <td>1</td>\n",
       "      <td>2017-07-01</td>\n",
       "    </tr>\n",
       "    <tr>\n",
       "      <th>517010</th>\n",
       "      <td>198</td>\n",
       "      <td>2017-07-01 00:34:41.256</td>\n",
       "      <td>2017-07-01 00:37:59.745</td>\n",
       "      <td>21</td>\n",
       "      <td>Montgomery St BART Station (Market St at 2nd St)</td>\n",
       "      <td>37.7896</td>\n",
       "      <td>-122.401</td>\n",
       "      <td>25</td>\n",
       "      <td>Howard St at 2nd St</td>\n",
       "      <td>37.7875</td>\n",
       "      <td>-122.397</td>\n",
       "      <td>895</td>\n",
       "      <td>Subscriber</td>\n",
       "      <td>July</td>\n",
       "      <td>Saturday</td>\n",
       "      <td>0</td>\n",
       "      <td>2017-07-01</td>\n",
       "    </tr>\n",
       "  </tbody>\n",
       "</table>\n",
       "<p>517011 rows × 17 columns</p>\n",
       "</div>"
      ],
      "text/plain": [
       "        duration_sec              start_time                end_time  \\\n",
       "0              80110 2017-12-31 16:57:39.654 2018-01-01 15:12:50.245   \n",
       "1              78800 2017-12-31 15:56:34.842 2018-01-01 13:49:55.617   \n",
       "2              45768 2017-12-31 22:45:48.411 2018-01-01 11:28:36.883   \n",
       "3              62172 2017-12-31 17:31:10.636 2018-01-01 10:47:23.531   \n",
       "4              43603 2017-12-31 14:23:14.001 2018-01-01 02:29:57.571   \n",
       "...              ...                     ...                     ...   \n",
       "517006           796 2017-07-01 02:30:42.375 2017-07-01 02:43:58.779   \n",
       "517007           229 2017-07-01 02:11:07.168 2017-07-01 02:14:56.593   \n",
       "517008           205 2017-07-01 02:05:36.240 2017-07-01 02:09:02.044   \n",
       "517009           282 2017-07-01 01:21:12.583 2017-07-01 01:25:55.307   \n",
       "517010           198 2017-07-01 00:34:41.256 2017-07-01 00:37:59.745   \n",
       "\n",
       "       start_station_id                                 start_station_name  \\\n",
       "0                    74                              Laguna St at Hayes St   \n",
       "1                   284  Yerba Buena Center for the Arts (Howard St at ...   \n",
       "2                   245                             Downtown Berkeley BART   \n",
       "3                    60                               8th St at Ringold St   \n",
       "4                   239                      Bancroft Way at Telegraph Ave   \n",
       "...                 ...                                                ...   \n",
       "517006               58                               Market St at 10th St   \n",
       "517007               25                                Howard St at 2nd St   \n",
       "517008               25                                Howard St at 2nd St   \n",
       "517009               41                         Golden Gate Ave at Polk St   \n",
       "517010               21   Montgomery St BART Station (Market St at 2nd St)   \n",
       "\n",
       "       start_station_latitude start_station_longitude end_station_id  \\\n",
       "0                     37.7764                -122.426             43   \n",
       "1                     37.7849                -122.401             96   \n",
       "2                     37.8703                -122.268            245   \n",
       "3                     37.7745                -122.409              5   \n",
       "4                     37.8688                -122.259            247   \n",
       "...                       ...                     ...            ...   \n",
       "517006                37.7766                -122.417             59   \n",
       "517007                37.7875                -122.397             19   \n",
       "517008                37.7875                -122.397             48   \n",
       "517009                37.7813                -122.419             59   \n",
       "517010                37.7896                -122.401             25   \n",
       "\n",
       "                                         end_station_name  \\\n",
       "0       San Francisco Public Library (Grove St at Hyde...   \n",
       "1                                   Dolores St at 15th St   \n",
       "2                                  Downtown Berkeley BART   \n",
       "3            Powell St BART Station (Market St at 5th St)   \n",
       "4                               Fulton St at Bancroft Way   \n",
       "...                                                   ...   \n",
       "517006                        S Van Ness Ave at Market St   \n",
       "517007                               Post St at Kearny St   \n",
       "517008                                2nd St at S Park St   \n",
       "517009                        S Van Ness Ave at Market St   \n",
       "517010                                Howard St at 2nd St   \n",
       "\n",
       "       end_station_latitude end_station_longitude bike_id   user_type  \\\n",
       "0                   37.7788              -122.416      96    Customer   \n",
       "1                   37.7662              -122.427      88    Customer   \n",
       "2                   37.8703              -122.268    1094    Customer   \n",
       "3                   37.7839              -122.408    2831    Customer   \n",
       "4                   37.8678              -122.266    3167  Subscriber   \n",
       "...                     ...                   ...     ...         ...   \n",
       "517006              37.7748              -122.419     887    Customer   \n",
       "517007               37.789              -122.403     622  Subscriber   \n",
       "517008              37.7824              -122.393      45  Subscriber   \n",
       "517009              37.7748              -122.419     245  Subscriber   \n",
       "517010              37.7875              -122.397     895  Subscriber   \n",
       "\n",
       "           month start_day  hour        date  \n",
       "0       December    Sunday    16  2017-12-31  \n",
       "1       December    Sunday    15  2017-12-31  \n",
       "2       December    Sunday    22  2017-12-31  \n",
       "3       December    Sunday    17  2017-12-31  \n",
       "4       December    Sunday    14  2017-12-31  \n",
       "...          ...       ...   ...         ...  \n",
       "517006      July  Saturday     2  2017-07-01  \n",
       "517007      July  Saturday     2  2017-07-01  \n",
       "517008      July  Saturday     2  2017-07-01  \n",
       "517009      July  Saturday     1  2017-07-01  \n",
       "517010      July  Saturday     0  2017-07-01  \n",
       "\n",
       "[517011 rows x 17 columns]"
      ]
     },
     "execution_count": 22,
     "metadata": {},
     "output_type": "execute_result"
    }
   ],
   "source": [
    "# Define: We will delete the June entry\n",
    "\n",
    "# Code\n",
    "df_2017_clean = df_2017_clean[df_2017_clean.month != 'June']\n",
    "\n",
    "# Test\n",
    "df_2017_clean"
   ]
  },
  {
   "cell_type": "code",
   "execution_count": 23,
   "metadata": {},
   "outputs": [
    {
     "data": {
      "image/png": "[encoded data removed]",
      "text/plain": [
       "<Figure size 720x432 with 1 Axes>"
      ]
     },
     "metadata": {
      "needs_background": "light"
     },
     "output_type": "display_data"
    }
   ],
   "source": [
    "# Countplot bike usage based on month\n",
    "\n",
    "month_name = ['July', 'August', 'September', 'October', 'November', 'December']\n",
    "\n",
    "plt.figure(figsize=(10,6))\n",
    "sns.countplot(data=df_2017_clean, x='month', order=month_name, color=base_color);"
   ]
  },
  {
   "cell_type": "markdown",
   "metadata": {},
   "source": [
    "> From the countplot, the trend is increasing from July to October and going down in the end of the year. From [San Francisco Wikipedia](https://en.wikipedia.org/wiki/San_Francisco) page, in November and December the temperature began to decrease and the rainfall began to increase."
   ]
  },
  {
   "cell_type": "markdown",
   "metadata": {},
   "source": [
    "#### Based on weekday"
   ]
  },
  {
   "cell_type": "code",
   "execution_count": 24,
   "metadata": {},
   "outputs": [
    {
     "data": {
      "image/png": "[encoded data removed]",
      "text/plain": [
       "<Figure size 720x432 with 1 Axes>"
      ]
     },
     "metadata": {
      "needs_background": "light"
     },
     "output_type": "display_data"
    }
   ],
   "source": [
    "# Countplot bike usage based on weekday\n",
    "\n",
    "day_name = [\"Monday\",\"Tuesday\",\"Wednesday\",\"Thursday\",\"Friday\",\"Saturday\",\"Sunday\"]\n",
    "\n",
    "plt.figure(figsize=(10,6))\n",
    "sns.countplot(data=df_2017_clean, x='start_day', order=day_name, color=base_color);"
   ]
  },
  {
   "cell_type": "markdown",
   "metadata": {},
   "source": [
    "> On weekdays, the use of bike-sharing services is more than on weekends. We well see in the bivariate section, is this result is depend on user type or not."
   ]
  },
  {
   "cell_type": "markdown",
   "metadata": {},
   "source": [
    "#### Based on hour"
   ]
  },
  {
   "cell_type": "code",
   "execution_count": 25,
   "metadata": {},
   "outputs": [
    {
     "data": {
      "image/png": "[encoded data removed]",
      "text/plain": [
       "<Figure size 720x432 with 1 Axes>"
      ]
     },
     "metadata": {
      "needs_background": "light"
     },
     "output_type": "display_data"
    }
   ],
   "source": [
    "hour_order = np.arange(0,25)\n",
    "\n",
    "plt.figure(figsize=(10,6))\n",
    "sns.countplot(data=df_2017_clean, x='hour', order=hour_order, color=base_color);"
   ]
  },
  {
   "cell_type": "markdown",
   "metadata": {},
   "source": [
    "> Based on the plotting above, the use of bicycle services is the most during peak hours."
   ]
  },
  {
   "cell_type": "markdown",
   "metadata": {},
   "source": [
    "Based on datetime analysis above maybe we can get some insight in bivariate or multivariate analysis."
   ]
  },
  {
   "cell_type": "markdown",
   "metadata": {},
   "source": [
    "### Stations Analysis\n",
    "\n",
    "station name or id, location, start vs end, distance"
   ]
  },
  {
   "cell_type": "code",
   "execution_count": 26,
   "metadata": {},
   "outputs": [
    {
     "data": {
      "text/plain": [
       "272"
      ]
     },
     "execution_count": 26,
     "metadata": {},
     "output_type": "execute_result"
    }
   ],
   "source": [
    "df_2017_clean.start_station_name.nunique()"
   ]
  },
  {
   "cell_type": "markdown",
   "metadata": {},
   "source": [
    "> Based on this data, there are 272 stations across San Francisco Bay area."
   ]
  },
  {
   "cell_type": "code",
   "execution_count": 27,
   "metadata": {},
   "outputs": [
    {
     "data": {
      "text/plain": [
       "array(['Laguna St at Hayes St',\n",
       "       'Yerba Buena Center for the Arts (Howard St at 3rd St)',\n",
       "       'Downtown Berkeley BART', '8th St at Ringold St',\n",
       "       'Bancroft Way at Telegraph Ave',\n",
       "       'San Francisco Caltrain (Townsend St at 4th St)',\n",
       "       'Addison St at Fourth St',\n",
       "       'Mechanics Monument Plaza (Market St at Bush St)',\n",
       "       'San Francisco Caltrain Station 2  (Townsend St at 4th St)',\n",
       "       '3rd St at Townsend St', 'Clay St at Battery St',\n",
       "       'Folsom St at 9th St', 'Cyril Magnin St at Ellis St',\n",
       "       'San Salvador St at 9th St',\n",
       "       'Garfield Square (25th St at Harrison St)',\n",
       "       'The Embarcadero at Sansome St', 'Broadway at Kearny',\n",
       "       'S Park St at 3rd St', 'California St at University Ave',\n",
       "       'Frank H Ogawa Plaza', 'Dolores St at 15th St',\n",
       "       'The Alameda at Bush St', '19th Street BART Station',\n",
       "       'Valencia St at 16th St', 'Post St at Kearny St',\n",
       "       'San Francisco City Hall (Polk St at Grove St)',\n",
       "       'Church St at Duboce Ave', '19th St at Florida St',\n",
       "       'Russell St at College Ave', 'The Embarcadero at Vallejo St',\n",
       "       '5th St at Howard St', 'Market St at 10th St',\n",
       "       'Valencia St at 21st St', '24th St at Chattanooga St',\n",
       "       '14th St at Mandela Pkwy', 'Beale St at Harrison St',\n",
       "       'Mission Playground', 'Valencia St at 24th St',\n",
       "       'Washington St at Kearny St', 'The Embarcadero at Steuart St',\n",
       "       'Esprit Park', '18th St at Noe St', 'Washington St at 8th St',\n",
       "       'Lake Merritt BART Station', 'Golden Gate Ave at Polk St',\n",
       "       'The Embarcadero at Bryant St', 'Grove St at Divisadero',\n",
       "       'Golden Gate Ave at Hyde St', '2nd St at S Park St',\n",
       "       'Steuart St at Market St', 'Davis St at Jackson St',\n",
       "       'Morrison Ave at Julian St', 'West Oakland BART Station',\n",
       "       '29th St at Tiffany Ave', '20th St at Bryant St',\n",
       "       'Valencia St at 22nd St', '2nd Ave at E 18th St',\n",
       "       'College Ave at Harwood Ave', 'Cahill Park',\n",
       "       'Folsom St at 15th St', 'Berry St at 4th St',\n",
       "       'MLK Jr Way at 14th St', 'McAllister St at Baker St',\n",
       "       'Market St at Dolores St', 'Howard St at 8th St',\n",
       "       '45th St at Manila', '14th St at Mission St',\n",
       "       '4th St at Mission Bay Blvd S', 'Telegraph Ave at 23rd St',\n",
       "       'El Embarcadero at Grand Ave', '2nd St at Folsom St',\n",
       "       'Harrison St at 20th St', 'Grand Ave at Perkins St',\n",
       "       '11th St at Natoma St', '4th St at Harrison St',\n",
       "       'Powell St BART Station (Market St at 4th St)',\n",
       "       'Union Square (Powell St at Post St)',\n",
       "       'Paseo De San Antonio at 2nd St', 'Central Ave at Fell St',\n",
       "       'Commercial St at Montgomery St', 'Lakeside Dr at 14th St',\n",
       "       'Julian St at The Alameda', 'SAP Center', 'MacArthur BART Station',\n",
       "       'Ashby BART Station', 'San Fernando at 7th St',\n",
       "       'Harrison St at 17th St', '16th St Mission BART',\n",
       "       'Franklin Square', 'Sanchez St at 15th St',\n",
       "       'Townsend St at 7th St', 'Raymond Kimbell Playground',\n",
       "       'Father Alfred E Boeddeker Park',\n",
       "       'Civic Center/UN Plaza BART Station (Market St at McAllister St)',\n",
       "       '1st St at Folsom St', 'Eureka Valley Recreation Center',\n",
       "       'Howard St at Beale St', \"Webster St at O'Farrell St\",\n",
       "       'Mosswood Park', 'Broderick St at Oak St',\n",
       "       'San Francisco Ferry Building (Harry Bridges Plaza)',\n",
       "       '16th St Mission BART Station 2', 'Market St at Franklin St',\n",
       "       'San Carlos St at Market St', 'Haste St at Telegraph Ave',\n",
       "       'Division St at Potrero Ave', 'Mission Dolores Park',\n",
       "       'Oregon St at Adeline St', 'Rhode Island St at 17th St',\n",
       "       'Jackson Playground', 'Bay Pl at Vernon St', 'Page St at Scott St',\n",
       "       'Powell St BART Station (Market St at 5th St)',\n",
       "       'Jersey St at Castro St', '7th St at Brannan St',\n",
       "       '59th St at Horton St', 'University Ave at Oxford St',\n",
       "       '22nd St Caltrain Station', 'Willow St at Vine St',\n",
       "       '5th St at Virginia St', '5th at Folsom',\n",
       "       'Vine St at Shattuck Ave', 'Telegraph Ave at Alcatraz Ave',\n",
       "       '47th St at San Pablo Ave', 'Broadway at 40th St',\n",
       "       '17th St at Valencia St', 'Howard St at 2nd St',\n",
       "       'Folsom St at 3rd St', 'Folsom St at 19th St',\n",
       "       'Telegraph Ave at 19th St', 'Irwin St at 8th St',\n",
       "       'San Francisco Public Library (Grove St at Hyde St)',\n",
       "       'Union St at 10th St', 'Townsend St at 5th St',\n",
       "       'Stanford Ave at Hollis St', '11th St at Bryant St',\n",
       "       'Locust St at Grant St', '17th St at Dolores St', 'Precita Park',\n",
       "       'Shattuck Ave at Telegraph Ave', '10th St at Fallon St',\n",
       "       'Webster St at Grove St', 'Grand Ave at Webster St',\n",
       "       '16th St at Prosper St', \"O'Farrell St at Divisadero St\",\n",
       "       'Laguna St at McAllister St', 'Fruitvale BART Station',\n",
       "       'Market St at Park St', 'S Van Ness Ave at Market St',\n",
       "       'Franklin St at 9th St',\n",
       "       'Embarcadero BART Station (Beale St at Market St)',\n",
       "       'Shattuck Ave at 55th Ave', 'College Ave at Taft Ave',\n",
       "       'Horton St at 40th St', '55th St at Telegraph Ave',\n",
       "       'Victoria Manalo Draves Park', 'Grand Ave at Santa Clara Ave',\n",
       "       'Berkeley Civic Center', 'McCoppin St at Valencia St',\n",
       "       'Broadway at Coronado Ave', 'Ninth St at Heinz Ave',\n",
       "       'Spear St at Folsom St', 'Bryant St at 15th St',\n",
       "       'Parker St at Fulton St', '19th St at Mission St',\n",
       "       'Lakeshore Ave at Trestle Glen Rd', 'MLK Jr Way at University Ave',\n",
       "       'Channing Way at San Pablo Ave', '5th St at Brannan St',\n",
       "       '29th St at Church St', 'Bancroft Way at College Ave',\n",
       "       'Montgomery St BART Station (Market St at 2nd St)', 'Duboce Park',\n",
       "       'Dover St at 57th St', 'Koshland Park', 'Genoa St at 55th St',\n",
       "       'Santa Clara St at 7th St', 'North Berkeley BART Station',\n",
       "       '49th St at Telegraph Ave', 'Broadway at 30th St',\n",
       "       'Autumn Parkway at Coleman Ave', 'Valencia St at Cesar Chavez St',\n",
       "       '30th St at San Jose Ave', 'Isabella St at San Pablo Ave',\n",
       "       'Ryland Park', 'San Pablo Ave at MLK Jr Way',\n",
       "       'Pierce Ave at Market St', 'San Carlos St at 11th St',\n",
       "       'Sanchez St at 17th St', 'Broadway at Battery St',\n",
       "       'Bryant St at 6th St', '37th St at West St',\n",
       "       'Delmas Ave and San Fernando St', '5th St at San Salvador St',\n",
       "       '17th & Folsom Street Park (17th St at Folsom St)',\n",
       "       'William St at 10th St', 'Telegraph Ave at Carleton St',\n",
       "       'Telegraph Ave at Ashby Ave', 'Market St at 40th St',\n",
       "       '65th St at Hollis St', '12th St at 6th Ave',\n",
       "       'Market St at Brockhurst St', 'Harmon St at Adeline St',\n",
       "       '45th St at MLK Jr Way', 'Fulton St at Bancroft Way',\n",
       "       'Shafter Ave at Cavour St', 'San Bruno Ave at 16th St',\n",
       "       'Telegraph Ave at 58th St', 'Foothill Blvd at Fruitvale Ave',\n",
       "       'Mississippi St at 17th St', 'San Pedro Square',\n",
       "       'Jackson St at 5th St', 'San Jose Diridon Station',\n",
       "       'College Ave at Bryant Ave', 'Santa Clara St at Almaden Blvd',\n",
       "       'Shattuck Ave at 51st St', 'Scott St at Golden Gate Ave',\n",
       "       '26th Ave at International Blvd', 'Jersey St at Church St',\n",
       "       'San Pablo Ave at 27th St', 'Snow Park',\n",
       "       'Telegraph Ave at 27th St', 'S. 4th St at San Carlos St',\n",
       "       'Bestor Art Park', 'Shattuck Ave at Hearst Ave',\n",
       "       'San Salvador St at 1st St', '12th St at 4th Ave',\n",
       "       'Adeline St at 40th St', 'Julian St at 6th St',\n",
       "       'San Fernando St at 4th St', 'Webster St at 19th St',\n",
       "       '13th St at Franklin St', 'Derby St at College Ave',\n",
       "       'San Antonio Park', '24th St at Market St',\n",
       "       '32nd St at Adeline St', 'DeFremery Park', 'West St at 40th St',\n",
       "       'Cesar Chavez St at Dolores St', '10th Ave at E 15th St',\n",
       "       'W St John St at Guadalupe River Trail', '5th St at Taylor St',\n",
       "       'MacArthur Blvd at Telegraph Ave', '34th St at Telegraph Ave',\n",
       "       '9th St at San Fernando', 'Doyle St at 59th St', 'Bushrod Park',\n",
       "       'Jackson St at 11th St', 'Almaden Blvd at Balbach St',\n",
       "       'Emeryville Town Hall', 'Fruitvale Ave at International Blvd',\n",
       "       'Mission St at 1st St', 'Foothill Blvd at Harrington Ave',\n",
       "       'Ninth St at Parker St', 'Almaden Blvd at San Fernando St',\n",
       "       'Palm St at Willow St', 'San Jose City Hall',\n",
       "       'George St at 1st St', 'Marston Campbell Park', 'Saint James Park',\n",
       "       'Ellsworth St at Russell St', 'Empire St at 1st St',\n",
       "       '53rd St at Hollis St', 'Market St at 8th St',\n",
       "       '21st Ave at International Blvd', '14th St at Filbert St',\n",
       "       'Foothill Blvd at 42nd Ave', '2nd St at Townsend St - Coming Soon',\n",
       "       'Franklin St at 14th St', 'Webster St at 17th St',\n",
       "       'Jackson St at 14th St', 'Dolores St at 22nd St'], dtype=object)"
      ]
     },
     "execution_count": 27,
     "metadata": {},
     "output_type": "execute_result"
    }
   ],
   "source": [
    "df_2017_clean.start_station_name.unique()"
   ]
  },
  {
   "cell_type": "markdown",
   "metadata": {},
   "source": [
    "#### Ten most used stations"
   ]
  },
  {
   "cell_type": "markdown",
   "metadata": {},
   "source": [
    "##### Start statiom"
   ]
  },
  {
   "cell_type": "code",
   "execution_count": 28,
   "metadata": {},
   "outputs": [
    {
     "data": {
      "image/png": "[encoded data removed]",
      "text/plain": [
       "<Figure size 432x288 with 1 Axes>"
      ]
     },
     "metadata": {
      "needs_background": "light"
     },
     "output_type": "display_data"
    }
   ],
   "source": [
    "df_2017_clean.start_station_name.value_counts(ascending=True).tail(10).plot.barh();"
   ]
  },
  {
   "cell_type": "markdown",
   "metadata": {},
   "source": [
    "##### End station"
   ]
  },
  {
   "cell_type": "code",
   "execution_count": 29,
   "metadata": {},
   "outputs": [
    {
     "data": {
      "image/png": "[encoded data removed]",
      "text/plain": [
       "<Figure size 432x288 with 1 Axes>"
      ]
     },
     "metadata": {
      "needs_background": "light"
     },
     "output_type": "display_data"
    }
   ],
   "source": [
    "df_2017_clean.end_station_name.value_counts(ascending=True).tail(10).plot.barh();"
   ]
  },
  {
   "cell_type": "markdown",
   "metadata": {},
   "source": [
    "# Ten rarely used stations"
   ]
  },
  {
   "cell_type": "markdown",
   "metadata": {},
   "source": [
    "##### Start station"
   ]
  },
  {
   "cell_type": "code",
   "execution_count": 30,
   "metadata": {},
   "outputs": [
    {
     "data": {
      "image/png": "[encoded data removed]",
      "text/plain": [
       "<Figure size 432x288 with 1 Axes>"
      ]
     },
     "metadata": {
      "needs_background": "light"
     },
     "output_type": "display_data"
    }
   ],
   "source": [
    "df_2017_clean.start_station_name.value_counts(ascending=False).tail(10).plot.barh();"
   ]
  },
  {
   "cell_type": "markdown",
   "metadata": {},
   "source": [
    "##### End station"
   ]
  },
  {
   "cell_type": "code",
   "execution_count": 31,
   "metadata": {},
   "outputs": [
    {
     "data": {
      "image/png": "[encoded data removed]",
      "text/plain": [
       "<Figure size 432x288 with 1 Axes>"
      ]
     },
     "metadata": {
      "needs_background": "light"
     },
     "output_type": "display_data"
    }
   ],
   "source": [
    "df_2017_clean.end_station_name.value_counts(ascending=False).tail(10).plot.barh();"
   ]
  },
  {
   "cell_type": "markdown",
   "metadata": {},
   "source": [
    "### Discuss the distribution(s) of your variable(s) of interest. Were there any unusual points? Did you need to perform any transformations?\n",
    "\n",
    "> Your answer here!\n",
    "\n",
    "### Of the features you investigated, were there any unusual distributions? Did you perform any operations on the data to tidy, adjust, or change the form of the data? If so, why did you do this?\n",
    "\n",
    "> Your answer here!"
   ]
  },
  {
   "cell_type": "markdown",
   "metadata": {},
   "source": [
    "## Bivariate Exploration\n",
    "\n",
    "> In this section, investigate relationships between pairs of variables in your\n",
    "data. Make sure the variables that you cover here have been introduced in some\n",
    "fashion in the previous section (univariate exploration)."
   ]
  },
  {
   "cell_type": "markdown",
   "metadata": {},
   "source": [
    "### Riding duration based on user type"
   ]
  },
  {
   "cell_type": "code",
   "execution_count": 32,
   "metadata": {},
   "outputs": [],
   "source": [
    "# Make filter based on user type\n",
    "\n",
    "cust =  df_2017_clean['user_type']=='Customer'\n",
    "subs =  df_2017_clean['user_type']=='Subscriber'"
   ]
  },
  {
   "cell_type": "code",
   "execution_count": 33,
   "metadata": {},
   "outputs": [
    {
     "data": {
      "text/plain": [
       "2555.3022086893293"
      ]
     },
     "execution_count": 33,
     "metadata": {},
     "output_type": "execute_result"
    }
   ],
   "source": [
    "# Average trip duration for Customer/Casual\n",
    "\n",
    "df_2017_clean[cust].duration_sec.mean()"
   ]
  },
  {
   "cell_type": "code",
   "execution_count": 34,
   "metadata": {},
   "outputs": [
    {
     "data": {
      "text/plain": [
       "705.5607740711711"
      ]
     },
     "execution_count": 34,
     "metadata": {},
     "output_type": "execute_result"
    }
   ],
   "source": [
    "# Average trip duration for Subscriber/Member\n",
    "\n",
    "df_2017_clean[subs].duration_sec.mean()"
   ]
  },
  {
   "cell_type": "code",
   "execution_count": 35,
   "metadata": {},
   "outputs": [
    {
     "data": {
      "image/png": "[encoded data removed]",
      "text/plain": [
       "<Figure size 720x432 with 1 Axes>"
      ]
     },
     "metadata": {
      "needs_background": "light"
     },
     "output_type": "display_data"
    }
   ],
   "source": [
    "# Plotting trip duration comparison\n",
    "\n",
    "df_2017_duration_user = df_2017_clean[['user_type', 'duration_sec']].groupby('user_type').mean()\n",
    "\n",
    "ax = df_2017_duration_user.plot(kind='bar', figsize=(10,6), color=base_color, fontsize=13);\n",
    "\n",
    "locs, labels = plt.xticks()\n",
    "\n",
    "# # loop through each pair of locations and labels\n",
    "# for loc, label in zip(locs, labels):\n",
    "\n",
    "#     # get the text property for the label to get the correct count\n",
    "#     count = cat_counts[label.get_text()]\n",
    "#     pct_string = '{}'.format(count)\n",
    "\n",
    "#     # print the annotation just below the top of the bar\n",
    "#     plt.text(loc, count-8, pct_string, va='top', ha='center', color = 'w')\n",
    "\n",
    "ax.set_title(\"Riding Duration Average (sec)\", fontsize=22)\n",
    "ax.set_ylabel(\"second(s)\", fontsize=15)\n",
    "plt.xticks(rotation=0)\n",
    "\n",
    "# Remove unnecessary features \n",
    "ax.get_legend().remove() \n",
    "ax.spines['top'].set_visible(False)\n",
    "ax.spines['right'].set_visible(False)\n",
    "ax.spines['left'].set_visible(False)\n",
    "# plt.yticks([])\n",
    "plt.ylabel('')\n",
    "plt.xlabel('')\n",
    "\n",
    "# Show the plot\n",
    "plt.show();"
   ]
  },
  {
   "cell_type": "markdown",
   "metadata": {},
   "source": [
    "# Does the above depend on if a user is a subscriber or customer?"
   ]
  },
  {
   "cell_type": "code",
   "execution_count": null,
   "metadata": {},
   "outputs": [],
   "source": []
  },
  {
   "cell_type": "markdown",
   "metadata": {},
   "source": [
    "### Talk about some of the relationships you observed in this part of the investigation. How did the feature(s) of interest vary with other features in the dataset?\n",
    "\n",
    "> Your answer here!\n",
    "\n",
    "### Did you observe any interesting relationships between the other features (not the main feature(s) of interest)?\n",
    "\n",
    "> Your answer here!"
   ]
  },
  {
   "cell_type": "markdown",
   "metadata": {},
   "source": [
    "## Multivariate Exploration\n",
    "\n",
    "> Create plots of three or more variables to investigate your data even\n",
    "further. Make sure that your investigations are justified, and follow from\n",
    "your work in the previous sections."
   ]
  },
  {
   "cell_type": "markdown",
   "metadata": {},
   "source": []
  },
  {
   "cell_type": "markdown",
   "metadata": {},
   "source": [
    "### Talk about some of the relationships you observed in this part of the investigation. Were there features that strengthened each other in terms of looking at your feature(s) of interest?\n",
    "\n",
    "> Your answer here!\n",
    "\n",
    "### Were there any interesting or surprising interactions between features?\n",
    "\n",
    "> Your answer here!"
   ]
  },
  {
   "cell_type": "markdown",
   "metadata": {},
   "source": [
    "> At the end of your report, make sure that you export the notebook as an\n",
    "html file from the `File > Download as... > HTML` menu. Make sure you keep\n",
    "track of where the exported file goes, so you can put it in the same folder\n",
    "as this notebook for project submission. Also, make sure you remove all of\n",
    "the quote-formatted guide notes like this one before you finish your report!"
   ]
  },
  {
   "cell_type": "code",
   "execution_count": null,
   "metadata": {},
   "outputs": [],
   "source": []
  }
 ],
 "metadata": {
  "kernelspec": {
   "display_name": "Python 3",
   "language": "python",
   "name": "python3"
  },
  "language_info": {
   "codemirror_mode": {
    "name": "ipython",
    "version": 3
   },
   "file_extension": ".py",
   "mimetype": "text/x-python",
   "name": "python",
   "nbconvert_exporter": "python",
   "pygments_lexer": "ipython3",
   "version": "3.8.5"
  }
 },
 "nbformat": 4,
 "nbformat_minor": 2
}
