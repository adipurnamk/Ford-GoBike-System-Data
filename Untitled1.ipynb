{
 "cells": [
  {
   "cell_type": "markdown",
   "metadata": {},
   "source": [
    "\n",
    "##### Year 2018\n",
    "* 11771 missing value based on : start_station_id, start_station_name, end_station_id, and end_station_name columns\n",
    "\n",
    "##### Year 2019\n",
    "* Columns name is not same for all csv files\n",
    "\n",
    "##### Year 2020\n",
    "* Columns name is not same for all csv files\n"
   ]
  }
 ],
 "metadata": {
  "kernelspec": {
   "display_name": "Python 3",
   "language": "python",
   "name": "python3"
  },
  "language_info": {
   "codemirror_mode": {
    "name": "ipython",
    "version": 3
   },
   "file_extension": ".py",
   "mimetype": "text/x-python",
   "name": "python",
   "nbconvert_exporter": "python",
   "pygments_lexer": "ipython3",
   "version": "3.8.5"
  }
 },
 "nbformat": 4,
 "nbformat_minor": 4
}
